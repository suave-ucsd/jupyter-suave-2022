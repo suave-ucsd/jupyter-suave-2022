{
 "cells": [
  {
   "cell_type": "markdown",
   "metadata": {},
   "source": [
    "<h1><span style=\"color:red\">Generate a SuAVE survey from the UN SDG database</span></h1>\n",
    "\n",
    "This Jupyter Notebook is designed to access SDG database and let users select variables and years to add to the survey file for visual analysis.\n",
    "\n",
    "You can execute cells in sequence (by clicking 'Run' above, or pressing Shift-Enter). \n",
    "The source of the SDG database is: Statistics Division, Department of Economic and Social Affairs, United Nations.\n",
    "The database can be downloaded from https://unstats.un.org/sdgs/indicators/database/\n",
    "\n",
    "Definitions of indicators are available at the same page. The current version is October 10, 2018\n",
    "\n"
   ]
  },
  {
   "cell_type": "markdown",
   "metadata": {},
   "source": [
    "## 1. Retrieve survey parameters from the URL"
   ]
  },
  {
   "cell_type": "code",
   "execution_count": null,
   "metadata": {},
   "outputs": [],
   "source": [
    "%%javascript\n",
    "function getQueryStringValue (key)\n",
    "{  \n",
    "    return unescape(window.location.search.replace(new RegExp(\"^(?:.*[&\\\\?]\" + escape(key).replace(/[\\.\\+\\*]/g, \"\\\\$&\") + \"(?:\\\\=([^&]*))?)?.*$\", \"i\"), \"$1\"));\n",
    "}\n",
    "IPython.notebook.kernel.execute(\"survey_url='\".concat(getQueryStringValue(\"surveyurl\")).concat(\"'\"));\n",
    "IPython.notebook.kernel.execute(\"views='\".concat(getQueryStringValue(\"views\")).concat(\"'\"));\n",
    "IPython.notebook.kernel.execute(\"view='\".concat(getQueryStringValue(\"view\")).concat(\"'\"));\n",
    "IPython.notebook.kernel.execute(\"user='\".concat(getQueryStringValue(\"user\")).concat(\"'\"));\n",
    "IPython.notebook.kernel.execute(\"csv_file='\".concat(getQueryStringValue(\"csv\")).concat(\"'\")); \n",
    "IPython.notebook.kernel.execute(\"dzc_file='\".concat(getQueryStringValue(\"dzc\")).concat(\"'\")); \n",
    "IPython.notebook.kernel.execute(\"params='\".concat(getQueryStringValue(\"params\")).concat(\"'\")); \n",
    "IPython.notebook.kernel.execute(\"active_object='\".concat(getQueryStringValue(\"activeobject\")).concat(\"'\")); \n",
    "IPython.notebook.kernel.execute(\"full_notebook_url='\" + window.location + \"'\"); "
   ]
  },
  {
   "cell_type": "code",
   "execution_count": null,
   "metadata": {},
   "outputs": [],
   "source": [
    "# common imports\n",
    "from __future__ import print_function\n",
    "from ipywidgets import interact, interactive, fixed, interact_manual\n",
    "import ipywidgets as widgets\n",
    "from IPython.display import Markdown, display\n",
    "\n",
    "import pandas as pd\n",
    "pd.set_option('display.max_colwidth', 0)\n",
    "    \n",
    "import numpy as np\n",
    "import panel as pn\n",
    "\n",
    "pn.extension()\n",
    "def printmd(string):\n",
    "    display(Markdown(string))\n",
    "\n",
    "absolutePath = \"../../temp_csvs/\"\n",
    "\n",
    "# local imports\n",
    "import sys\n",
    "sys.path.insert(1, '../../helpers')\n",
    "import panel_libs as panellibs\n",
    "import suave_integration as suaveint\n",
    "\n",
    "# specific imports\n",
    "import xlrd\n",
    "import csv\n",
    "import urllib.request\n",
    "import io\n",
    "import os\n",
    "from collections import OrderedDict\n",
    "import re\n",
    "import requests\n"
   ]
  },
  {
   "cell_type": "markdown",
   "metadata": {},
   "source": [
    "## 2. Access local version of the UN SDG Database"
   ]
  },
  {
   "cell_type": "code",
   "execution_count": null,
   "metadata": {
    "scrolled": true
   },
   "outputs": [],
   "source": [
    "file_names = []\n",
    "file_directory = \"/lib-nfs/largedatasets\"\n",
    "for file in os.listdir(file_directory):\n",
    "    if file.endswith('.csv'):\n",
    "        file_names.append(os.path.join(file_directory, file))\n",
    "    \n",
    "def f(file_name):\n",
    "    return file_name\n",
    "print('The source data file should contain fields named TimePeriod, SeriesCode, Indicator, and GeoAreaCode.') \n",
    "print('GeoAreaCode values will be matched with \"UN Code\" values in the survey file (this can be changed below).')\n",
    "print('Select the source data file:')\n",
    "fileName = interact(f, file_name=file_names)"
   ]
  },
  {
   "cell_type": "markdown",
   "metadata": {},
   "source": [
    "## 3. Prepare to query the database"
   ]
  },
  {
   "cell_type": "code",
   "execution_count": null,
   "metadata": {},
   "outputs": [],
   "source": [
    "new_csv_file = fileName.widget.result\n",
    "\n",
    "df = pd.read_csv(new_csv_file, low_memory=False)\n",
    "\n",
    "time_periods = OrderedDict()\n",
    "time_periods_list = sorted(list(set(list(df['TimePeriod']))))\n",
    "for i in range(0, len(time_periods_list)-1):\n",
    "    time_periods[str(time_periods_list[i])] = int(time_periods_list[i])\n",
    "\n",
    "\n",
    "series_codes = []\n",
    "for i in range(0, len(df['SeriesCode'])):\n",
    "#     series_codes.append(df['SeriesCode'][i] + \"-\" + df['Indicator'][i])\n",
    "    series_codes.append(df['Indicator'][i] + \"-\" + df['SeriesCode'][i])\n",
    "\n",
    "series_codes = sorted(list(set(series_codes)))"
   ]
  },
  {
   "cell_type": "markdown",
   "metadata": {},
   "source": [
    "## 4. Select years of data to retrieve\n",
    "\n",
    "Use Shift or Ctrl to select multiple years"
   ]
  },
  {
   "cell_type": "code",
   "execution_count": null,
   "metadata": {},
   "outputs": [],
   "source": [
    "def g(TimePeriod):\n",
    "    return TimePeriod\n",
    "\n",
    "time_period_widget = interact(g, TimePeriod=widgets.SelectMultiple(options=time_periods))"
   ]
  },
  {
   "cell_type": "markdown",
   "metadata": {},
   "source": [
    "## 5. Select data series to retrieve\n",
    "\n",
    "Use Shift or Ctrl to select multiple series"
   ]
  },
  {
   "cell_type": "code",
   "execution_count": null,
   "metadata": {},
   "outputs": [],
   "source": [
    "def h(SeriesCode):\n",
    "    return SeriesCode\n",
    "\n",
    "series_code_widget = interact(h, SeriesCode=widgets.SelectMultiple(options=series_codes))"
   ]
  },
  {
   "cell_type": "markdown",
   "metadata": {},
   "source": [
    "## 6. Read the SuAVE survey file with base SDG data"
   ]
  },
  {
   "cell_type": "code",
   "execution_count": null,
   "metadata": {},
   "outputs": [],
   "source": [
    "old_df = panellibs.extract_data(absolutePath + csv_file)\n"
   ]
  },
  {
   "cell_type": "markdown",
   "metadata": {},
   "source": [
    "## 7. Add the newly selected data series to the base SDG data"
   ]
  },
  {
   "cell_type": "code",
   "execution_count": null,
   "metadata": {
    "scrolled": false
   },
   "outputs": [],
   "source": [
    "series_code = series_code_widget.widget.result\n",
    "time_period = time_period_widget.widget.result\n",
    "\n",
    "for i in range(0, len(series_code)):\n",
    "    for j in range(0, len(time_period)):\n",
    "        series_code_array = series_code[i].split(\"-\")\n",
    "        series_code_0 = series_code_array[0]\n",
    "        series_code_1 = series_code_array[1]\n",
    "            \n",
    "        rows = df.loc[(df['TimePeriod'] == time_period[j]) & \n",
    "                          (df['SeriesCode'] == series_code_1) &\n",
    "                          (df['Indicator'] == series_code_0)]\n",
    "        \n",
    "        if (not rows.empty):\n",
    "        \n",
    "#             new_col_name = series_code[i] + \"-\" + str(time_period[j])\n",
    "            new_col_name = series_code_0 + \"-\" + series_code_1 +\"-\" + str(time_period[j])+\"#number\"\n",
    "            old_df[new_col_name] = np.nan\n",
    "        \n",
    "            for k in range(0, len(rows.index)):\n",
    "                \n",
    "                geo_code = rows.iloc[k]['GeoAreaCode']\n",
    "                value = rows.iloc[k]['Value']\n",
    "                \n",
    "# IMPORTANT: depending on the survey version, you may need to specify a field\n",
    "# to match country numeric IDs in the UN SDG database\n",
    "# In the 2015 version of the SDG survey in SuAVE, this field is 'UN Code#hidden' \n",
    "# In the 2018 version of the SDG survey in SuAVE, this field is 'ISO3166N3#hidden' \n",
    "# To switch, comment one of the two lines below, uncomment the other\n",
    "\n",
    "#                 curr_row = old_df.loc[old_df['UN Code#hidden'] == geo_code]\n",
    "                curr_row = old_df.loc[old_df['ISO3166N3#hidden'] == geo_code]\n",
    "                if (not curr_row.empty):\n",
    "                    \n",
    "                    curr_index = curr_row.index[0]\n",
    "                \n",
    "                    old_df.at[curr_index, new_col_name] = value\n",
    "                \n",
    "                "
   ]
  },
  {
   "cell_type": "markdown",
   "metadata": {},
   "source": [
    "## 8. Save the new version of CSV file, and give a name to new survey"
   ]
  },
  {
   "cell_type": "code",
   "execution_count": null,
   "metadata": {},
   "outputs": [],
   "source": [
    "# new file name\n",
    "new_file =  csv_file[:-4] + '_v1.csv'\n",
    "new_file_path = os.path.join(absolutePath, new_file)\n",
    "old_df.to_csv(os.path.join(absolutePath, new_file), index=False)\n",
    "\n"
   ]
  },
  {
   "cell_type": "code",
   "execution_count": null,
   "metadata": {},
   "outputs": [],
   "source": [
    "with pd.option_context(\"display.max_columns\", None):\n",
    "    display(old_df.drop(['geometry'],axis=1))\n"
   ]
  },
  {
   "cell_type": "code",
   "execution_count": null,
   "metadata": {},
   "outputs": [],
   "source": [
    "#Input survey name\n",
    "\n",
    "from IPython.display import display\n",
    "input_text = widgets.Text(placeholder='Enter Survey Name...')\n",
    "output_text = widgets.Text()\n",
    "\n",
    "def bind_input_to_output(sender):\n",
    "    output_text.value = input_text.value\n",
    "\n",
    "# Tell the text input widget to call bind_input_to_output() on submit\n",
    "input_text.on_submit(bind_input_to_output)\n",
    "\n",
    "printmd(\"<b><span style='color:red'>Input survey name here, press Enter, and then run the next cell:</span></b>\")\n",
    "# Display input text box widget for input\n",
    "display(input_text)\n",
    "\n",
    "display(output_text)\n"
   ]
  },
  {
   "cell_type": "code",
   "execution_count": null,
   "metadata": {},
   "outputs": [],
   "source": [
    "#Print survey name\n",
    "survey_name = output_text.value\n",
    "printmd(\"<b><span style='color:red'>Survey Name is: </span></b>\" + survey_name)"
   ]
  },
  {
   "cell_type": "markdown",
   "metadata": {},
   "source": [
    "## 9. Generate the survey and create survey URL"
   ]
  },
  {
   "cell_type": "code",
   "execution_count": null,
   "metadata": {},
   "outputs": [],
   "source": [
    "referer = survey_url.split(\"/main\")[0] +\"/\"\n",
    "upload_url = referer + \"uploadCSV\"\n",
    "new_survey_url_base = survey_url.split(user)[0]\n",
    "\n",
    "import requests\n",
    "import re\n",
    "csv = {\"file\": open(new_file_path, \"rb\")}\n",
    "upload_data = {\n",
    "    'name': input_text.value,\n",
    "    'dzc': dzc_file,\n",
    "    'user':user\n",
    "}\n",
    "headers = {\n",
    "    'User-Agent': 'suave user agent',\n",
    "    'referer': referer\n",
    "}\n",
    "\n",
    "r = requests.post(upload_url, files=csv, data=upload_data, headers=headers)\n",
    "\n",
    "if r.status_code == 200:\n",
    "    printmd(\"<b><span style='color:red'>New survey created successfully</span></b>\")\n",
    "    regex = re.compile('[^0-9a-zA-Z_]')\n",
    "    s_url = survey_name\n",
    "    s_url =  regex.sub('_', s_url)\n",
    "\n",
    "    url = new_survey_url_base + user + \"_\" + s_url + \".csv\" + \"&views=\" + views + \"&view=\" + view\n",
    "    print(url)\n",
    "    printmd(\"<b><span style='color:red'>Click the URL to open the new survey</span></b>\")\n",
    "else:\n",
    "    printmd(\"<b><span style='color:red'>Error creating new survey. Check if a survey with this name already exists.</span></b>\")\n",
    "    printmd(\"<b><span style='color:red'>Reason: </span></b>\"+ str(r.status_code) + \" \" + r.reason)\n",
    "\n"
   ]
  },
  {
   "cell_type": "code",
   "execution_count": null,
   "metadata": {},
   "outputs": [],
   "source": []
  }
 ],
 "metadata": {
  "kernelspec": {
   "display_name": "Python 3",
   "language": "python",
   "name": "python3"
  },
  "language_info": {
   "codemirror_mode": {
    "name": "ipython",
    "version": 3
   },
   "file_extension": ".py",
   "mimetype": "text/x-python",
   "name": "python",
   "nbconvert_exporter": "python",
   "pygments_lexer": "ipython3",
   "version": "3.8.6"
  }
 },
 "nbformat": 4,
 "nbformat_minor": 2
}
