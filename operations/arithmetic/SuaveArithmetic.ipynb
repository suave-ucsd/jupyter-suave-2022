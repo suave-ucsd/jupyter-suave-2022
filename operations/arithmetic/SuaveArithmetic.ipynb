{
 "cells": [
  {
   "cell_type": "markdown",
   "metadata": {},
   "source": [
    "<h1><span style=\"color:red\">Simple Variable Calculations</span></h1>\n",
    "\n",
    "### This sample notebook reads numeric variables from a survey dataset and lets users compute a new numeric variable, add it to a new survey version, and publish the survey to the user's surveys gallery"
   ]
  },
  {
   "cell_type": "markdown",
   "metadata": {},
   "source": [
    "## 1. Retrieve survey parameters from the URL"
   ]
  },
  {
   "cell_type": "code",
   "execution_count": null,
   "metadata": {},
   "outputs": [],
   "source": [
    "%%javascript\n",
    "function getQueryStringValue (key)\n",
    "{  \n",
    "    return unescape(window.location.search.replace(new RegExp(\"^(?:.*[&\\\\?]\" + escape(key).replace(/[\\.\\+\\*]/g, \"\\\\$&\") + \"(?:\\\\=([^&]*))?)?.*$\", \"i\"), \"$1\"));\n",
    "}\n",
    "IPython.notebook.kernel.execute(\"survey_url='\".concat(getQueryStringValue(\"surveyurl\")).concat(\"'\"));\n",
    "IPython.notebook.kernel.execute(\"views='\".concat(getQueryStringValue(\"views\")).concat(\"'\"));\n",
    "IPython.notebook.kernel.execute(\"view='\".concat(getQueryStringValue(\"view\")).concat(\"'\"));\n",
    "IPython.notebook.kernel.execute(\"user='\".concat(getQueryStringValue(\"user\")).concat(\"'\"));\n",
    "IPython.notebook.kernel.execute(\"csv_file='\".concat(getQueryStringValue(\"csv\")).concat(\"'\")); \n",
    "IPython.notebook.kernel.execute(\"dzc_file='\".concat(getQueryStringValue(\"dzc\")).concat(\"'\")); \n",
    "IPython.notebook.kernel.execute(\"params='\".concat(getQueryStringValue(\"params\")).concat(\"'\")); \n",
    "IPython.notebook.kernel.execute(\"active_object='\".concat(getQueryStringValue(\"activeobject\")).concat(\"'\")); \n",
    "IPython.notebook.kernel.execute(\"full_notebook_url='\" + window.location + \"'\"); "
   ]
  },
  {
   "cell_type": "code",
   "execution_count": null,
   "metadata": {},
   "outputs": [],
   "source": [
    "# common imports\n",
    "from __future__ import print_function\n",
    "from ipywidgets import interact, interactive, fixed, interact_manual\n",
    "import ipywidgets as widgets\n",
    "from IPython.display import Markdown, display\n",
    "\n",
    "import operator\n",
    "\n",
    "import pandas as pd\n",
    "pd.set_option('display.max_colwidth', 0)\n",
    "    \n",
    "import numpy as np\n",
    "import panel as pn\n",
    "\n",
    "def printmd(string):\n",
    "    display(Markdown(string))\n",
    "\n",
    "absolutePath = \"../../temp_csvs/\"\n",
    "\n",
    "# local imports\n",
    "import sys\n",
    "sys.path.insert(1, '../../helpers')\n",
    "import panel_libs as panellibs\n",
    "import suave_integration as suaveint\n"
   ]
  },
  {
   "cell_type": "markdown",
   "metadata": {},
   "source": [
    "## 2. Read the survey file and extract numeric variables"
   ]
  },
  {
   "cell_type": "code",
   "execution_count": null,
   "metadata": {},
   "outputs": [],
   "source": [
    "# read the csv file\n",
    "df = panellibs.extract_data(absolutePath + csv_file)\n",
    "\n",
    "# create a list of variable names\n",
    "variables_df = pd.DataFrame({'varname':df.columns})\n",
    "printmd(\"<b><span style='color:red'>All variables in the survey file:</span></b>\")\n",
    "print(variables_df.varname.values)\n",
    "\n",
    "# create a dictionary of #number variables with abbreviated and full variable names \n",
    "var_list = {n[:n.index('#')]:n for n in variables_df.varname.values if '#number' in n}\n",
    "printmd(\"<b><span style='color:red'>Numeric variables:</span></b>\")\n",
    "\n",
    "for key, value in var_list.items():\n",
    "    print(key, ' : ', value)\n"
   ]
  },
  {
   "cell_type": "markdown",
   "metadata": {},
   "source": [
    "## 3. Define a new variable using the form ##"
   ]
  },
  {
   "cell_type": "code",
   "execution_count": null,
   "metadata": {},
   "outputs": [],
   "source": [
    "printmd(\"<b><span style='color:red'>Select the number of operations you would like to perform, then run the next cell</span></b>\")\n",
    "printmd(\"<b><span style='color:red'>For instance, 3+5*6 is 2 operations</span></b>\")\n",
    "num_ops = widgets.BoundedIntText(value=1,min=1,max=100,step=1,description='Number of Operations:',disabled=False, style={'description_width': 'max-content'})\n",
    "display(num_ops)"
   ]
  },
  {
   "cell_type": "code",
   "execution_count": null,
   "metadata": {},
   "outputs": [],
   "source": [
    "# Define a new Variable\n",
    "var_dict = {}\n",
    "\n",
    "ops = {\"+\": operator.add, \"-\": operator.sub, \"/\": operator.truediv, \"*\": operator.mul} \n",
    "\n",
    "printmd(\"<b><span style='color:red'>Select variables and the operation, then run the next cell</span></b>\")\n",
    "keep_track = 0\n",
    "for i in range(num_ops.value):\n",
    "    if i == 0:\n",
    "        var_dict[str(0)] = widgets.Dropdown(options=var_list.keys())\n",
    "        var_dict[str(1)] = widgets.Dropdown(options=['/','*','+','-'])\n",
    "        var_dict[str(2)] = widgets.Dropdown(options=var_list.keys())\n",
    "        display(var_dict[str(0)])\n",
    "        display(var_dict[str(1)])\n",
    "        display(var_dict[str(2)])\n",
    "        keep_track +=3\n",
    "    else:\n",
    "        var_dict[str(keep_track)] = widgets.Dropdown(options=['/','*','+','-'])\n",
    "        var_dict[str(keep_track+1)] = widgets.Dropdown(options=var_list.keys())\n",
    "        display(var_dict[str(keep_track)])\n",
    "        display(var_dict[str(keep_track+1)])\n",
    "        keep_track += 2"
   ]
  },
  {
   "cell_type": "markdown",
   "metadata": {},
   "source": [
    "## 4. Edit variable name as needed"
   ]
  },
  {
   "cell_type": "code",
   "execution_count": null,
   "metadata": {},
   "outputs": [],
   "source": [
    "# Give a Name to the New Variable\n",
    "def f(Var_Name):\n",
    "    return Var_Name\n",
    "keep_track = 0\n",
    "new_name = ''\n",
    "for i in range(num_ops.value):\n",
    "    if i == 0:\n",
    "        new_name = new_name + var_dict[str(0)].value + var_dict[str(1)].value + var_dict[str(2)].value\n",
    "        keep_track +=3\n",
    "    else:\n",
    "        new_name = new_name + var_dict[str(keep_track)].value + var_dict[str(keep_track+1)].value\n",
    "        keep_track += 2\n",
    "    \n",
    "newvar = interact(f, Var_Name=new_name +'#number');\n",
    "\n",
    "printmd(\"<b><span style='color:red'>After defining variable name hit Enter, then run the next cell</span></b>\")\n"
   ]
  },
  {
   "cell_type": "markdown",
   "metadata": {},
   "source": [
    "## 5. Compute the new variable and format it for SuAVE"
   ]
  },
  {
   "cell_type": "code",
   "execution_count": null,
   "metadata": {},
   "outputs": [],
   "source": [
    "try:\n",
    "    temp = 0\n",
    "    keep_track = 0\n",
    "    \n",
    "    for i in range(num_ops.value):\n",
    "        if i == 0:\n",
    "            temp = ops[str(var_dict[str(1)].value)](df[var_list[str(var_dict[str(0)].value)]],df[var_list[str(var_dict[str(2)].value)]])\n",
    "            keep_track +=3\n",
    "        else:\n",
    "            temp = ops[str(var_dict[str(1)].value)](temp,df[var_list[str(var_dict[str(keep_track+1)].value)]])\n",
    "            keep_track += 2\n",
    "    df[newvar.widget.result] = temp\n",
    "        \n",
    "# make sure there are no illegal NaN type values in this #number variable\n",
    "    df[newvar.widget.result].fillna('',inplace=True)\n",
    "    df.replace(['None', 'nan', np.inf, -np.inf], np.nan, inplace=True)\n",
    "    df[newvar.widget.result] = pd.to_numeric(df[newvar.widget.result], errors='coerce', downcast='float')\n",
    "    df[newvar.widget.result] = df[newvar.widget.result].apply(lambda x: '{:.6f}'.format(x))\n",
    "    df.replace('nan', \"\", inplace=True)\n",
    "    printmd(\"<b><span style='color:red'>New variable computed, and appended to the data frame as the last variable.</span></b>\")\n",
    "\n",
    "except:\n",
    "    printmd(\"<b><span style='color:red'>!! Cannot compute. One or both variables contain non-numeric values!!</span></b>\")\n",
    "    printmd(\"<b>\" + var_list[a.value] +\"</b>\")\n",
    "    print(df[var_list[a.value]].describe())\n",
    "    printmd(\"<b>\" + var_list[c.value] +\"</b>\")\n",
    "    print(df[var_list[c.value]].describe())\n"
   ]
  },
  {
   "cell_type": "code",
   "execution_count": null,
   "metadata": {},
   "outputs": [],
   "source": [
    "with pd.option_context(\"display.max_columns\", None):\n",
    "    if any(\"geometry\" in col for col in df.columns):\n",
    "        display(df.drop(['geometry'],axis=1))\n",
    "    else:\n",
    "        display(df)\n",
    "    "
   ]
  },
  {
   "cell_type": "markdown",
   "metadata": {},
   "source": [
    "## 6. Save the new version of CSV file, and give a name to new survey"
   ]
  },
  {
   "cell_type": "code",
   "execution_count": null,
   "metadata": {},
   "outputs": [],
   "source": [
    "new_file = suaveint.save_csv_file(df, absolutePath, csv_file)"
   ]
  },
  {
   "cell_type": "code",
   "execution_count": null,
   "metadata": {},
   "outputs": [],
   "source": [
    "#Input survey name\n",
    "\n",
    "from IPython.display import display\n",
    "input_text = widgets.Text(placeholder='Enter Survey Name...')\n",
    "output_text = widgets.Text()\n",
    "\n",
    "def bind_input_to_output(sender):\n",
    "    output_text.value = input_text.value\n",
    "\n",
    "# Tell the text input widget to call bind_input_to_output() on submit\n",
    "input_text.on_submit(bind_input_to_output)\n",
    "\n",
    "printmd(\"<b><span style='color:red'>Input survey name here, press Enter, and then run the next cell:</span></b>\")\n",
    "# Display input text box widget for input\n",
    "display(input_text)\n",
    "\n",
    "display(output_text)\n"
   ]
  },
  {
   "cell_type": "code",
   "execution_count": null,
   "metadata": {},
   "outputs": [],
   "source": [
    "#Print survey name\n",
    "survey_name = output_text.value\n",
    "printmd(\"<b><span style='color:red'>Survey Name is: </span></b>\" + survey_name)\n"
   ]
  },
  {
   "cell_type": "markdown",
   "metadata": {},
   "source": [
    "## 7. Generate the survey and create survey URL"
   ]
  },
  {
   "cell_type": "code",
   "execution_count": null,
   "metadata": {},
   "outputs": [],
   "source": [
    "suaveint.create_survey(survey_url,new_file, survey_name, dzc_file, user, csv_file, view, views)"
   ]
  },
  {
   "cell_type": "code",
   "execution_count": null,
   "metadata": {},
   "outputs": [],
   "source": []
  }
 ],
 "metadata": {
  "kernelspec": {
   "display_name": "Python 3",
   "language": "python",
   "name": "python3"
  },
  "language_info": {
   "codemirror_mode": {
    "name": "ipython",
    "version": 3
   },
   "file_extension": ".py",
   "mimetype": "text/x-python",
   "name": "python",
   "nbconvert_exporter": "python",
   "pygments_lexer": "ipython3",
   "version": "3.8.6"
  },
  "toc": {
   "base_numbering": 1,
   "nav_menu": {},
   "number_sections": true,
   "sideBar": true,
   "skip_h1_title": true,
   "title_cell": "Table of Contents",
   "title_sidebar": "Contents",
   "toc_cell": false,
   "toc_position": {},
   "toc_section_display": true,
   "toc_window_display": false
  }
 },
 "nbformat": 4,
 "nbformat_minor": 2
}
