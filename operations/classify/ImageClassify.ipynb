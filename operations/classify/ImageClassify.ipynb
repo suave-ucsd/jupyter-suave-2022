{
 "cells": [
  {
   "cell_type": "markdown",
   "metadata": {},
   "source": [
    "<h1><span style=\"color:red\">Generate Concepts from Images in Image Collection</span></h1>\n",
    "\n",
    "### This sample notebook will read survey images and add concepts found in the images to a new version of  SuAVE survey\n",
    "\n",
    "This notebook uses Clarifai API (clarifai.com). To process your images, please generate your own API key at the web site."
   ]
  },
  {
   "cell_type": "markdown",
   "metadata": {},
   "source": [
    "## 1. Retrieve survey parameters from the URL"
   ]
  },
  {
   "cell_type": "code",
   "execution_count": null,
   "metadata": {},
   "outputs": [],
   "source": [
    "%%javascript\n",
    "function getQueryStringValue (key)\n",
    "{  \n",
    "    return unescape(window.location.search.replace(new RegExp(\"^(?:.*[&\\\\?]\" + escape(key).replace(/[\\.\\+\\*]/g, \"\\\\$&\") + \"(?:\\\\=([^&]*))?)?.*$\", \"i\"), \"$1\"));\n",
    "}\n",
    "IPython.notebook.kernel.execute(\"survey_url='\".concat(getQueryStringValue(\"surveyurl\")).concat(\"'\"));\n",
    "IPython.notebook.kernel.execute(\"views='\".concat(getQueryStringValue(\"views\")).concat(\"'\"));\n",
    "IPython.notebook.kernel.execute(\"view='\".concat(getQueryStringValue(\"view\")).concat(\"'\"));\n",
    "IPython.notebook.kernel.execute(\"user='\".concat(getQueryStringValue(\"user\")).concat(\"'\"));\n",
    "IPython.notebook.kernel.execute(\"csv_file='\".concat(getQueryStringValue(\"csv\")).concat(\"'\")); \n",
    "IPython.notebook.kernel.execute(\"dzc_file='\".concat(getQueryStringValue(\"dzc\")).concat(\"'\")); \n",
    "IPython.notebook.kernel.execute(\"params='\".concat(getQueryStringValue(\"params\")).concat(\"'\")); \n",
    "IPython.notebook.kernel.execute(\"active_object='\".concat(getQueryStringValue(\"activeobject\")).concat(\"'\")); \n",
    "IPython.notebook.kernel.execute(\"full_notebook_url='\" + window.location + \"'\"); "
   ]
  },
  {
   "cell_type": "markdown",
   "metadata": {},
   "source": [
    "## 2. Import libraries"
   ]
  },
  {
   "cell_type": "code",
   "execution_count": null,
   "metadata": {},
   "outputs": [],
   "source": [
    "# common imports\n",
    "from __future__ import print_function\n",
    "from ipywidgets import interact, interactive, fixed, interact_manual\n",
    "import ipywidgets as widgets\n",
    "from IPython.display import Markdown, display\n",
    "\n",
    "import pandas as pd\n",
    "pd.set_option('display.max_colwidth', 0)\n",
    "    \n",
    "import numpy as np\n",
    "import panel as pn\n",
    "\n",
    "pn.extension()\n",
    "def printmd(string):\n",
    "    display(Markdown(string))\n",
    "\n",
    "absolutePath = \"../../temp_csvs/\"\n",
    "\n",
    "# local imports\n",
    "import sys\n",
    "sys.path.insert(1, '../../helpers')\n",
    "import panel_libs as panellibs\n",
    "import suave_integration as suaveint\n",
    "\n",
    "# specific imports\n",
    "import requests\n",
    "import re\n",
    "import glob, os\n",
    "import csv\n",
    "\n",
    "from clarifai_grpc.channel.clarifai_channel import ClarifaiChannel\n",
    "from clarifai_grpc.grpc.api import service_pb2_grpc\n",
    "\n",
    "stub = service_pb2_grpc.V2Stub(ClarifaiChannel.get_grpc_channel())"
   ]
  },
  {
   "cell_type": "markdown",
   "metadata": {},
   "source": [
    "## 3. Read the survey file and navigate to full-size images"
   ]
  },
  {
   "cell_type": "code",
   "execution_count": null,
   "metadata": {},
   "outputs": [],
   "source": [
    "df = panellibs.extract_data(absolutePath + csv_file)\n",
    "dflen = len(df.columns)\n",
    "\n",
    "localdzc = dzc_file.replace(\"https://maxim.ucsd.edu/dzgen/lib-staging-uploads\",\"/lib-nfs/dzgen\")\n",
    "full_images_location = localdzc.replace(\"/content.dzc\",\"/full_images/\")\n"
   ]
  },
  {
   "cell_type": "markdown",
   "metadata": {},
   "source": [
    "## 4. Specify Clarifai API key\n",
    "<b><h3><span style=\"color:red\">Important: </span>Specify your Clarifai API Key, App ID, Personal Access Token, and User ID, below.<br>You can get them at clarifai.com</h3></b>\n"
   ]
  },
  {
   "cell_type": "code",
   "execution_count": null,
   "metadata": {},
   "outputs": [],
   "source": [
    "# Retrieve the API key\n",
    "\n",
    "# import credentials file\n",
    "import yaml\n",
    "from pathlib import Path\n",
    "\n",
    "try:\n",
    "    with open(Path.home() / 'creds.yml', 'r') as ymlfile:\n",
    "        cfg = yaml.safe_load(ymlfile)\n",
    "        api_key=cfg['api_creds']['cfy1']\n",
    "        app_ID=cfg['api_creds']['cfy_appid']\n",
    "        pat_ID=cfg['api_creds']['cfy_pat']\n",
    "        user_ID=cfg['api_creds']['cfy_uid']\n",
    "\n",
    "\n",
    "except IOError:\n",
    "    printmd(\"<b><span style='color:red;font-size:150%'>Credentials are unavailable or incorrect. CANNOT CONTINUE.</span></b>\")\n",
    "    printmd(\"<b><span style='color:red;font-size:150%'>Please register and obtain the credentials at clarifai.com.</span></b>\")\n",
    "\n",
    "if api_key == '' :\n",
    "    print('Cannot proceed without an API Key')\n",
    "else:\n",
    "    os.environ[\"CLARIFAI_API_KEY\"] = api_key\n",
    "    os.environ[\"CLARIFAI_APP_ID\"] = app_ID\n",
    "#     printmd(\"<b><span style='color:red'>Your CLARIFAI API Key is: </span></b>\" +os.environ[\"CLARIFAI_API_KEY\"])\n",
    "#     printmd(\"<b><span style='color:red'>Your CLARIFAI APP ID is: </span></b>\" +os.environ[\"CLARIFAI_APP_ID\"])\n",
    "\n"
   ]
  },
  {
   "cell_type": "code",
   "execution_count": null,
   "metadata": {},
   "outputs": [],
   "source": [
    "from clarifai_grpc.grpc.api import service_pb2, resources_pb2\n",
    "from clarifai_grpc.grpc.api.status import status_code_pb2\n",
    "\n",
    "metadata = ((\"authorization\", f\"Key {pat_ID}\"),)\n"
   ]
  },
  {
   "cell_type": "markdown",
   "metadata": {},
   "source": [
    "## 5. Extract the images, from SuAVE (local to the system) or at URL"
   ]
  },
  {
   "cell_type": "code",
   "execution_count": null,
   "metadata": {},
   "outputs": [],
   "source": [
    "# One can point to a local directory with images or to a list of images at a URL\n",
    "\n",
    "URL_or_local = 'local'  # the case of SuAVE. This only affects the format of a CLARIFAI request \n",
    "\n",
    "set_of_files = glob.glob(full_images_location+\"*.png\")\n",
    "\n",
    "printmd(\"<b><span style='color:red'>Count of items to process: </span></b>\" + str(len(set_of_files)))\n"
   ]
  },
  {
   "cell_type": "markdown",
   "metadata": {},
   "source": [
    "## 6. Run the classifier"
   ]
  },
  {
   "cell_type": "code",
   "execution_count": null,
   "metadata": {},
   "outputs": [],
   "source": [
    "all_data = []   # here, we accummulate the generated concepts for each image\n",
    "counter = 0\n",
    "\n",
    "for im in set_of_files:\n",
    "    counter += 1\n",
    "    if URL_or_local == 'url':\n",
    "        \n",
    "        request = service_pb2.PostModelOutputsRequest(\n",
    "        # This is the model ID of a publicly available General model. You may use any other public or custom model ID.\n",
    "            model_id=\"general-image-recognition\",\n",
    "            user_app_id=resources_pb2.UserAppIDSet(user_id=user_ID, app_id=app_ID),\n",
    "            inputs=[\n",
    "                resources_pb2.Input(\n",
    "                    data=resources_pb2.Data(image=resources_pb2.Image(url=im))\n",
    "                    )\n",
    "            ],\n",
    "        )\n",
    "        response = stub.PostModelOutputs(request, metadata=metadata)\n",
    "        \n",
    "        \n",
    "    else:\n",
    "        with open(im, \"rb\") as f:\n",
    "            file_bytes = f.read()\n",
    "        request = service_pb2.PostModelOutputsRequest(\n",
    "        # This is the model ID of a publicly available General model. You may use any other public or custom model ID.\n",
    "            model_id=\"general-image-recognition\",\n",
    "            user_app_id=resources_pb2.UserAppIDSet(user_id=user_ID,app_id=app_ID),\n",
    "            inputs=[\n",
    "                resources_pb2.Input(\n",
    "                    data=resources_pb2.Data(image=resources_pb2.Image(base64=file_bytes))\n",
    "                    )\n",
    "            ],\n",
    "        )\n",
    "        response = stub.PostModelOutputs(request, metadata=metadata)\n",
    "        \n",
    "    if response.status.code != status_code_pb2.SUCCESS:\n",
    "        print(response)\n",
    "        raise Exception(f\"Request failed, status code: {response.status}\")\n",
    "\n",
    "\n",
    "    file_data = {}\n",
    "    file_data['#img'] = os.path.basename(im)[:-4]\n",
    "    \n",
    "    cons = response.outputs[0].data.concepts\n",
    "    \n",
    "    for i in range(len(cons)):  \n",
    "        file_data['concept_'+str(i+1)] = cons[i].name\n",
    "        file_data['value_'+str(i+1)] = cons[i].value\n",
    "    all_data.append(file_data)\n",
    "    print(str(counter),\" ::  Processed file: \", os.path.basename(im))\n",
    "# debugging:\n",
    "    if counter == 3:\n",
    "        break\n",
    "printmd(\"<b><span style='color:red'>\" + str(counter) + \" images processed</span></b>\")\n"
   ]
  },
  {
   "cell_type": "markdown",
   "metadata": {},
   "source": [
    "## 7. Add concepts to dataframe"
   ]
  },
  {
   "cell_type": "code",
   "execution_count": null,
   "metadata": {},
   "outputs": [],
   "source": [
    "# adding individual concept fields, as well as a single multiple-response column with all concepts, to a dataframe\n",
    "newdf = pd.DataFrame(all_data).fillna('')\n",
    "newdf = newdf[['#img', \n",
    "         'concept_1', 'value_1',\n",
    "         'concept_2', 'value_2',\n",
    "         'concept_3', 'value_3',\n",
    "         'concept_4', 'value_4',\n",
    "         'concept_5', 'value_5',\n",
    "         'concept_6', 'value_6',\n",
    "         'concept_7', 'value_7',\n",
    "         'concept_8', 'value_8',\n",
    "         'concept_9', 'value_9',\n",
    "         'concept_10', 'value_10',\n",
    "         'concept_11', 'value_11',\n",
    "         'concept_12', 'value_12',\n",
    "         'concept_13', 'value_13',\n",
    "         'concept_14', 'value_14',\n",
    "         'concept_15', 'value_15',\n",
    "         'concept_16', 'value_16',\n",
    "         'concept_17', 'value_17',\n",
    "         'concept_18', 'value_18',\n",
    "         'concept_19', 'value_19',\n",
    "         'concept_20', 'value_20']]\n",
    "multi =''\n",
    "for i in range(20):\n",
    "    if i == 19:\n",
    "        multi += newdf['concept_'+str(i+1)]\n",
    "    else:\n",
    "        multi += newdf['concept_'+str(i+1)] +'|'\n",
    "\n",
    "newdf['tags#multi'] = multi\n",
    "df_merged = pd.merge(df, newdf, on='#img', how='outer')\n",
    "printmd(\"<b><span style='color:red'>Created new dataframe </span></b>\")\n"
   ]
  },
  {
   "cell_type": "code",
   "execution_count": null,
   "metadata": {},
   "outputs": [],
   "source": [
    "# view the dataframe\n",
    "with pd.option_context(\"display.max_columns\", None):\n",
    "    if any(\"geometry\" in col for col in df_merged.columns):\n",
    "        display(df_merged.drop(['geometry'],axis=1))\n",
    "    else:\n",
    "        display(df_merged)\n",
    "    \n",
    " "
   ]
  },
  {
   "cell_type": "markdown",
   "metadata": {},
   "source": [
    "## 8. Save the new version of CSV file, and give a name to new survey"
   ]
  },
  {
   "cell_type": "code",
   "execution_count": null,
   "metadata": {},
   "outputs": [],
   "source": [
    "new_file = suaveint.save_csv_file(df_merged, absolutePath, csv_file)"
   ]
  },
  {
   "cell_type": "code",
   "execution_count": null,
   "metadata": {},
   "outputs": [],
   "source": [
    "#Input survey name\n",
    "\n",
    "from IPython.display import display\n",
    "input_text = widgets.Text(placeholder='Enter Survey Name...')\n",
    "output_text = widgets.Text()\n",
    "\n",
    "def bind_input_to_output(sender):\n",
    "    output_text.value = input_text.value\n",
    "\n",
    "# Tell the text input widget to call bind_input_to_output() on submit\n",
    "input_text.on_submit(bind_input_to_output)\n",
    "\n",
    "printmd(\"<b><span style='color:red'>Input survey name here, press Enter, and then run the next cell:</span></b>\")\n",
    "# Display input text box widget for input\n",
    "display(input_text)\n",
    "\n",
    "display(output_text)"
   ]
  },
  {
   "cell_type": "code",
   "execution_count": null,
   "metadata": {},
   "outputs": [],
   "source": [
    "#Print survey name\n",
    "survey_name = output_text.value\n",
    "printmd(\"<b><span style='color:red'>Survey Name is: </span></b>\" + survey_name)"
   ]
  },
  {
   "cell_type": "markdown",
   "metadata": {},
   "source": [
    "## 9. Generate the survey and create survey URL"
   ]
  },
  {
   "cell_type": "code",
   "execution_count": null,
   "metadata": {},
   "outputs": [],
   "source": [
    "suaveint.create_survey(survey_url,new_file, survey_name, dzc_file, user, csv_file, view, views)"
   ]
  }
 ],
 "metadata": {
  "kernelspec": {
   "display_name": "Python 3",
   "language": "python",
   "name": "python3"
  },
  "language_info": {
   "codemirror_mode": {
    "name": "ipython",
    "version": 3
   },
   "file_extension": ".py",
   "mimetype": "text/x-python",
   "name": "python",
   "nbconvert_exporter": "python",
   "pygments_lexer": "ipython3",
   "version": "3.8.6"
  }
 },
 "nbformat": 4,
 "nbformat_minor": 2
}
