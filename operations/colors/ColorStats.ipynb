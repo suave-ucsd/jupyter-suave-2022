{
 "cells": [
  {
   "cell_type": "markdown",
   "metadata": {},
   "source": [
    "<h1><span style=\"color:red\">Add Color Statistics for Images in Image Collection</span></h1>\n",
    "\n",
    "### This sample notebook will read survey images and add lightness, hue, brightness, saturation, and RGB values to a new survey version"
   ]
  },
  {
   "cell_type": "markdown",
   "metadata": {},
   "source": [
    "## 1. Retrieve survey parameters from the URL"
   ]
  },
  {
   "cell_type": "code",
   "execution_count": null,
   "metadata": {},
   "outputs": [],
   "source": [
    "%%javascript\n",
    "function getQueryStringValue (key)\n",
    "{  \n",
    "    return unescape(window.location.search.replace(new RegExp(\"^(?:.*[&\\\\?]\" + escape(key).replace(/[\\.\\+\\*]/g, \"\\\\$&\") + \"(?:\\\\=([^&]*))?)?.*$\", \"i\"), \"$1\"));\n",
    "}\n",
    "IPython.notebook.kernel.execute(\"survey_url='\".concat(getQueryStringValue(\"surveyurl\")).concat(\"'\"));\n",
    "IPython.notebook.kernel.execute(\"views='\".concat(getQueryStringValue(\"views\")).concat(\"'\"));\n",
    "IPython.notebook.kernel.execute(\"view='\".concat(getQueryStringValue(\"view\")).concat(\"'\"));\n",
    "IPython.notebook.kernel.execute(\"user='\".concat(getQueryStringValue(\"user\")).concat(\"'\"));\n",
    "IPython.notebook.kernel.execute(\"csv_file='\".concat(getQueryStringValue(\"csv\")).concat(\"'\")); \n",
    "IPython.notebook.kernel.execute(\"dzc_file='\".concat(getQueryStringValue(\"dzc\")).concat(\"'\")); \n",
    "IPython.notebook.kernel.execute(\"params='\".concat(getQueryStringValue(\"params\")).concat(\"'\")); \n",
    "IPython.notebook.kernel.execute(\"active_object='\".concat(getQueryStringValue(\"activeobject\")).concat(\"'\")); \n",
    "IPython.notebook.kernel.execute(\"full_notebook_url='\" + window.location + \"'\"); "
   ]
  },
  {
   "cell_type": "code",
   "execution_count": null,
   "metadata": {},
   "outputs": [],
   "source": [
    "# common imports\n",
    "from __future__ import print_function\n",
    "from ipywidgets import interact, interactive, fixed, interact_manual\n",
    "import ipywidgets as widgets\n",
    "from IPython.display import Markdown, display\n",
    "\n",
    "import pandas as pd\n",
    "pd.set_option('display.max_colwidth', 0)\n",
    "    \n",
    "import numpy as np\n",
    "import panel as pn\n",
    "\n",
    "pn.extension()\n",
    "def printmd(string):\n",
    "    display(Markdown(string))\n",
    "\n",
    "absolutePath = \"../../temp_csvs/\"\n",
    "\n",
    "# local imports\n",
    "import sys\n",
    "sys.path.insert(1, '../../helpers')\n",
    "import panel_libs as panellibs\n",
    "import suave_integration as suaveint\n",
    "\n",
    "# specific imports\n",
    "from PIL import Image, ImageStat\n",
    "import glob, os\n",
    "import csv\n",
    "import requests\n",
    "import re\n",
    "\n"
   ]
  },
  {
   "cell_type": "markdown",
   "metadata": {},
   "source": [
    "## 2. Read the survey file and navigate to full-size images"
   ]
  },
  {
   "cell_type": "code",
   "execution_count": null,
   "metadata": {},
   "outputs": [],
   "source": [
    "# read the csv file\n",
    "df = panellibs.extract_data(absolutePath + csv_file)\n",
    "dflen = len(df.columns)\n",
    "\n",
    "localdzc = dzc_file.replace(\"https://maxim.ucsd.edu/dzgen/lib-staging-uploads\",\"/lib-nfs/dzgen\")\n",
    "full_images_location = localdzc.replace(\"/content.dzc\",\"/full_images/\")"
   ]
  },
  {
   "cell_type": "markdown",
   "metadata": {},
   "source": [
    "## 3. Specify color characteristics to extract from images"
   ]
  },
  {
   "cell_type": "code",
   "execution_count": null,
   "metadata": {},
   "outputs": [],
   "source": [
    "a = widgets.Dropdown(options=[\"Compute RGB values\", \"Don't compute RGB values\"])\n",
    "b = widgets.Dropdown(options=[\"Compute Lightness values\", \"Don't compute Lightness values\"])\n",
    "c = widgets.Dropdown(options=[\"Omit Root-Mean-Square for the selected bands\", \"Include Root-Mean-Square for the selected bands\"])\n",
    "ui = widgets.VBox([a, b, c])\n",
    "def f(a, b, c):\n",
    "    return ((a, b, c))\n",
    "\n",
    "formula = widgets.interactive_output(f, {'a': a, 'b': b, 'c': c})\n",
    "\n",
    "display(ui, formula)\n",
    "\n",
    "printmd(\"<b><span style='color:red'>Select variables to include in the output, then run the next cell</span></b>\")\n"
   ]
  },
  {
   "cell_type": "code",
   "execution_count": null,
   "metadata": {},
   "outputs": [],
   "source": [
    "# include RGB values\n",
    "printmd(\"<b><span style='color:red'>The following color characteristics will be added:</span></b>\")\n",
    "RGB = Light = rms = False\n",
    "if (a.value == 'Compute RGB values'):\n",
    "    print('Red-Green-Blue bands: Mean, Median, Standard Deviation: YES')\n",
    "    RGB = True\n",
    "if (b.value == 'Compute Lightness values'):\n",
    "    print('Lightness: Mean, Median, Standard Deviation: YES')\n",
    "    Light = True\n",
    "if (c.value == 'Include Root-Mean-Square for the selected bands'):\n",
    "    print('Root-Mean-Square for the above bands: YES')\n",
    "    rms = True\n",
    "    \n"
   ]
  },
  {
   "cell_type": "markdown",
   "metadata": {},
   "source": [
    "## 4. Specify band statistics functions ##"
   ]
  },
  {
   "cell_type": "code",
   "execution_count": null,
   "metadata": {},
   "outputs": [],
   "source": [
    "def lightness( im_file ):\n",
    "    im = Image.open(im_file).convert('L')\n",
    "    stat = ImageStat.Stat(im)\n",
    "    return [stat.mean[0], stat.median[0], stat.rms[0], stat.stddev[0]]\n",
    "\n",
    "def RGBstats ( im_file ):\n",
    "    im = Image.open(im_file).convert('RGB')\n",
    "    stat = ImageStat.Stat(im)\n",
    "    return [\n",
    "        [stat.mean[0], stat.median[0], stat.rms[0], stat.stddev[0]],\n",
    "        [stat.mean[1], stat.median[1], stat.rms[1], stat.stddev[1]],\n",
    "        [stat.mean[2], stat.median[2], stat.rms[2], stat.stddev[2]]\n",
    "    ]\n",
    "def HSVstats ( im_file ):\n",
    "    im = Image.open(im_file).convert('HSV')\n",
    "    stat = ImageStat.Stat(im)\n",
    "    return [\n",
    "        [stat.mean[0], stat.median[0], stat.rms[0], stat.stddev[0]],\n",
    "        [stat.mean[1], stat.median[1], stat.rms[1], stat.stddev[1]],\n",
    "        [stat.mean[2], stat.median[2], stat.rms[2], stat.stddev[2]]\n",
    "    ]"
   ]
  },
  {
   "cell_type": "markdown",
   "metadata": {},
   "source": [
    "## 5. Process images"
   ]
  },
  {
   "cell_type": "code",
   "execution_count": null,
   "metadata": {
    "scrolled": true
   },
   "outputs": [],
   "source": [
    "# Processing image file and adding to data frame\n",
    "all_data = []\n",
    "counter = 0\n",
    "a = widgets.Label(value=\"0% done\")\n",
    "display(a)\n",
    "\n",
    "# Uncomment only if want to process based on level 8 tiles. It is faster but not as accurate.\n",
    "# for dzi in glob.glob(\"*.dzi\"):\n",
    "#     file = os.path.join(os.getcwd(), dzi[:-4] +\"_files\", \"8\", \"0_0.jpg\")\n",
    "\n",
    "# numfiles = len(glob.glob(\"*.png\"))\n",
    "numfiles = len(glob.glob(full_images_location+\"*.png\"))\n",
    "\n",
    "for file in glob.glob(full_images_location+\"*.png\"):\n",
    "    file_data = {} # data for this particular file\n",
    "    try:\n",
    "        l1 = lightness(file)\n",
    "        h1 = HSVstats(file)\n",
    "        r1 = RGBstats(file)\n",
    "        file_data['#img'] = os.path.basename(file)[:-4]\n",
    "\n",
    "        file_data['Lightness_mean']   = l1[0]\n",
    "        file_data['Lightness_median'] = l1[1]\n",
    "        file_data['Lightness_rms']    = l1[2]\n",
    "        file_data['Lightness_std']    = l1[3]\n",
    "\n",
    "        file_data['Hue_mean']          = h1[0][0]\n",
    "        file_data['Hue_median']        = h1[0][1]\n",
    "        file_data['Hue_rms']           = h1[0][2]\n",
    "        file_data['Hue_std']           = h1[0][3]\n",
    "        file_data['Saturation_mean']   = h1[1][0]\n",
    "        file_data['Saturation_median'] = h1[1][1]\n",
    "        file_data['Saturation_rms']    = h1[1][2]\n",
    "        file_data['Saturation_std']    = h1[1][3]\n",
    "        file_data['Brightness_mean']        = h1[2][0]\n",
    "        file_data['Brightness_median']      = h1[2][1]\n",
    "        file_data['Brightness_rms']         = h1[2][2]\n",
    "        file_data['Brightness_std']         = h1[2][3]\n",
    "        \n",
    "        file_data['Red_mean']          = r1[0][0]\n",
    "        file_data['Red_median']        = r1[0][1]\n",
    "        file_data['Red_rms']           = r1[0][2]\n",
    "        file_data['Red_std']           = r1[0][3]\n",
    "        file_data['Green_mean']        = r1[1][0]\n",
    "        file_data['Green_median']      = r1[1][1]\n",
    "        file_data['Green_rms']         = r1[1][2]\n",
    "        file_data['Green_std']         = r1[1][3]\n",
    "        file_data['Blue_mean']         = r1[2][0]\n",
    "        file_data['Blue_median']       = r1[2][1]\n",
    "        file_data['Blue_rms']          = r1[2][2]\n",
    "        file_data['Blue_std']          = r1[2][3]\n",
    "        \n",
    "        \n",
    "        all_data.append(file_data)    \n",
    "    except Exception as e:\n",
    "        print(file, \"There was an issue: \", e)\n",
    "    counter += 1\n",
    "    a.value = str(int(counter / numfiles * 100)) + \"% done\"\n",
    "        \n",
    "newdf = pd.DataFrame(all_data).fillna('')\n",
    "printmd(\"<b><span style='color:red'>All files processed</span></b>\")"
   ]
  },
  {
   "cell_type": "markdown",
   "metadata": {},
   "source": [
    "## 6. Add the result to the survey dataframe"
   ]
  },
  {
   "cell_type": "code",
   "execution_count": null,
   "metadata": {
    "scrolled": true
   },
   "outputs": [],
   "source": [
    "columnTitles = [\n",
    "    '#img',\n",
    "    'Brightness_mean','Brightness_median']\n",
    "if rms:\n",
    "    columnTitles.append('Brightness_rms')\n",
    "columnTitles.extend(('Brightness_std','Hue_mean','Hue_median'))\n",
    "if rms:\n",
    "    columnTitles.append('Hue_rms')\n",
    "columnTitles.extend(('Hue_std','Saturation_mean','Saturation_median'))\n",
    "if rms:\n",
    "    columnTitles.append('Saturation_rms')\n",
    "columnTitles.append('Saturation_std')\n",
    "\n",
    "if Light:\n",
    "    columnTitles.extend(('Lightness_mean', 'Lightness_median'))\n",
    "    if rms: \n",
    "        columnTitles.append('Lightness_rms')\n",
    "    columnTitles.append('Lightness_std')\n",
    "    \n",
    "if RGB:\n",
    "    columnTitles.extend(('Red_mean','Red_median'))\n",
    "    if rms:\n",
    "        columnTitles.append('Red_rms')\n",
    "    columnTitles.extend(('Red_std','Green_mean','Green_median'))\n",
    "    if rms:\n",
    "        columnTitles.append('Green_rms')\n",
    "    columnTitles.extend(('Green_std','Blue_mean','Blue_median'))\n",
    "    if rms:\n",
    "        columnTitles.append('Blue_rms')\n",
    "    columnTitles.append('Blue_std')\n",
    "\n",
    "printmd(\"<br><b><span style='color:red'>The following columns will be added:</span></b>\")    \n",
    "print(columnTitles[1:])\n",
    "\n",
    "newdf = newdf[columnTitles]\n"
   ]
  },
  {
   "cell_type": "code",
   "execution_count": null,
   "metadata": {},
   "outputs": [],
   "source": [
    "# add #number to numeric column names\n",
    "\n",
    "collist = []\n",
    "for col in newdf.columns:\n",
    "    col1 = col+\"#number\"\n",
    "    collist.append(col1)\n",
    "newdf.columns = collist\n",
    "newdf = newdf.rename(columns={'#img#number': '#img'})\n",
    "df = pd.merge(df, newdf, on='#img', how='outer')\n",
    "printmd(\"<b><span style='color:red'>Dataframe created</span></b>\")"
   ]
  },
  {
   "cell_type": "markdown",
   "metadata": {},
   "source": [
    "## 7. Examine the generated dataframe"
   ]
  },
  {
   "cell_type": "code",
   "execution_count": null,
   "metadata": {},
   "outputs": [],
   "source": [
    "with pd.option_context(\"display.max_columns\", None):\n",
    "    if any(\"geometry\" in col for col in newdf.columns):\n",
    "        display(newdf.drop(['geometry'],axis=1))\n",
    "    else:\n",
    "        display(newdf)\n",
    "    \n",
    "    "
   ]
  },
  {
   "cell_type": "markdown",
   "metadata": {},
   "source": [
    "## 8. Save the new version of CSV file, and give a name to new survey"
   ]
  },
  {
   "cell_type": "code",
   "execution_count": null,
   "metadata": {},
   "outputs": [],
   "source": [
    "new_file = suaveint.save_csv_file(df, absolutePath, csv_file)"
   ]
  },
  {
   "cell_type": "code",
   "execution_count": null,
   "metadata": {},
   "outputs": [],
   "source": [
    "#Input survey name\n",
    "\n",
    "from IPython.display import display\n",
    "input_text = widgets.Text(placeholder='Enter Survey Name...')\n",
    "output_text = widgets.Text()\n",
    "\n",
    "def bind_input_to_output(sender):\n",
    "    output_text.value = input_text.value\n",
    "\n",
    "# Tell the text input widget to call bind_input_to_output() on submit\n",
    "input_text.on_submit(bind_input_to_output)\n",
    "\n",
    "printmd(\"<b><span style='color:red'>Input survey name here, press Enter, and then run the next cell:</span></b>\")\n",
    "# Display input text box widget for input\n",
    "display(input_text)\n",
    "\n",
    "display(output_text)\n"
   ]
  },
  {
   "cell_type": "code",
   "execution_count": null,
   "metadata": {},
   "outputs": [],
   "source": [
    "#Print survey name\n",
    "survey_name = output_text.value\n",
    "printmd(\"<b><span style='color:red'>Survey Name is: </span></b>\" + survey_name)"
   ]
  },
  {
   "cell_type": "markdown",
   "metadata": {},
   "source": [
    "## 9. Generate the survey and create survey URL"
   ]
  },
  {
   "cell_type": "code",
   "execution_count": null,
   "metadata": {},
   "outputs": [],
   "source": [
    "suaveint.create_survey(survey_url,new_file, survey_name, dzc_file, user, csv_file, view, views)"
   ]
  },
  {
   "cell_type": "code",
   "execution_count": null,
   "metadata": {},
   "outputs": [],
   "source": []
  }
 ],
 "metadata": {
  "kernelspec": {
   "display_name": "Python 3",
   "language": "python",
   "name": "python3"
  },
  "language_info": {
   "codemirror_mode": {
    "name": "ipython",
    "version": 3
   },
   "file_extension": ".py",
   "mimetype": "text/x-python",
   "name": "python",
   "nbconvert_exporter": "python",
   "pygments_lexer": "ipython3",
   "version": "3.8.6"
  }
 },
 "nbformat": 4,
 "nbformat_minor": 2
}
