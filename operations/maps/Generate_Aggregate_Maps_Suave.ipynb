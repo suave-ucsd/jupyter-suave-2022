{
 "cells": [
  {
   "cell_type": "markdown",
   "metadata": {},
   "source": [
    "<h1><span style=\"color:red\">Generate Aggregate Maps</span></h1>\n",
    "\n",
    "### This notebook reads numeric and categorical variables from the survey dataset and lets users compute a cloropleth map of a variable of interest aggregated by a spatial grouping, adds it to a new survey version, and publishes the survey to the user's surveys gallery"
   ]
  },
  {
   "cell_type": "markdown",
   "metadata": {},
   "source": [
    "## 1. Retrieve survey parameters from the URL"
   ]
  },
  {
   "cell_type": "code",
   "execution_count": null,
   "metadata": {},
   "outputs": [],
   "source": [
    "%%javascript\n",
    "function getQueryStringValue (key)\n",
    "{  \n",
    "    return unescape(window.location.search.replace(new RegExp(\"^(?:.*[&\\\\?]\" + escape(key).replace(/[\\.\\+\\*]/g, \"\\\\$&\") + \"(?:\\\\=([^&]*))?)?.*$\", \"i\"), \"$1\"));\n",
    "}\n",
    "IPython.notebook.kernel.execute(\"survey_url='\".concat(getQueryStringValue(\"surveyurl\")).concat(\"'\"));\n",
    "IPython.notebook.kernel.execute(\"views='\".concat(getQueryStringValue(\"views\")).concat(\"'\"));\n",
    "IPython.notebook.kernel.execute(\"view='\".concat(getQueryStringValue(\"view\")).concat(\"'\"));\n",
    "IPython.notebook.kernel.execute(\"user='\".concat(getQueryStringValue(\"user\")).concat(\"'\"));\n",
    "IPython.notebook.kernel.execute(\"csv_file='\".concat(getQueryStringValue(\"csv\")).concat(\"'\")); \n",
    "IPython.notebook.kernel.execute(\"dzc_file='\".concat(getQueryStringValue(\"dzc\")).concat(\"'\")); \n",
    "IPython.notebook.kernel.execute(\"params='\".concat(getQueryStringValue(\"params\")).concat(\"'\")); \n",
    "IPython.notebook.kernel.execute(\"active_object='\".concat(getQueryStringValue(\"activeobject\")).concat(\"'\")); \n",
    "IPython.notebook.kernel.execute(\"full_notebook_url='\" + window.location + \"'\"); "
   ]
  },
  {
   "cell_type": "code",
   "execution_count": null,
   "metadata": {},
   "outputs": [],
   "source": [
    "# common imports\n",
    "from __future__ import print_function\n",
    "from ipywidgets import interact, interactive, fixed, interact_manual\n",
    "import ipywidgets as widgets\n",
    "from IPython.display import Markdown, display\n",
    "from ipyfilechooser import FileChooser\n",
    "\n",
    "import geopandas as gpd\n",
    "import pandas as pd    \n",
    "import numpy as np\n",
    "import panel as pn\n",
    "import fiona\n",
    "import re\n",
    "import json\n",
    "import io\n",
    "import os\n",
    "\n",
    "pn.extension()\n",
    "def printmd(string):\n",
    "    display(Markdown(string))\n",
    "\n",
    "absolutePath = \"../../temp_csvs/\"\n",
    "\n",
    "# local imports\n",
    "import sys\n",
    "sys.path.insert(1, '../../helpers')\n",
    "import panel_libs as panellibs\n",
    "import suave_integration as suaveint"
   ]
  },
  {
   "cell_type": "markdown",
   "metadata": {},
   "source": [
    "## 2. Read the survey file"
   ]
  },
  {
   "cell_type": "code",
   "execution_count": null,
   "metadata": {},
   "outputs": [],
   "source": [
    "# read the csv file\n",
    "df = panellibs.extract_data(absolutePath + csv_file)\n",
    "\n",
    "# create a list of variable names\n",
    "variables_df = pd.DataFrame({'varname':df.columns})\n",
    "printmd(\"<b><span style='color:red'>All variables in the survey file:</span></b>\")\n",
    "print(variables_df.varname.values)"
   ]
  },
  {
   "cell_type": "markdown",
   "metadata": {},
   "source": [
    "## 3. Select variable of interest and spatial grouping"
   ]
  },
  {
   "cell_type": "code",
   "execution_count": null,
   "metadata": {},
   "outputs": [],
   "source": [
    "# select variable to visualize aggregate zip code data\n",
    "var_selector = pn.widgets.Select(name='Variable of Interest', options = df.columns.to_list())\n",
    "options = ['numerical', 'categorical']\n",
    "tag_selector = pn.widgets.Select(name='SuAVE Variable Type', options = options)\n",
    "\n",
    "# select spatial variable for aggregation in input dataframe -- (zip codes, states, counties, tracts, etc.)\n",
    "grouping_selector = pn.widgets.Select(name='Spatial Grouping Variable', options = df.columns.to_list())\n",
    "\n",
    "pn.Column(pn.Row(var_selector, tag_selector), grouping_selector)"
   ]
  },
  {
   "cell_type": "code",
   "execution_count": null,
   "metadata": {},
   "outputs": [],
   "source": [
    "# retrieve variable of interest's name\n",
    "selected = var_selector.value\n",
    "suave_tag = tag_selector.value\n",
    "\n",
    "# retrieve grouping variable's name\n",
    "grouping_var = grouping_selector.value\n",
    "print('Selected Variable of Interest: ' + selected + '\\n' +\n",
    "     'Selected Variable Type: ' + suave_tag + '\\n' +\n",
    "     'Selected Spatial Grouping Variable: ' + grouping_var)"
   ]
  },
  {
   "cell_type": "markdown",
   "metadata": {},
   "source": [
    "## 4. Select spatial grouping geometry mapping file"
   ]
  },
  {
   "cell_type": "markdown",
   "metadata": {},
   "source": [
    "Locally upload a geometry mapping file (up to 10 MB) or select one from the working directory."
   ]
  },
  {
   "cell_type": "code",
   "execution_count": null,
   "metadata": {},
   "outputs": [],
   "source": [
    "# define accepted geometry mapping file formats\n",
    "file_input = pn.widgets.FileInput(accept='.csv, .xlsx, .json, .zip, .geojson')\n",
    "fc = FileChooser()\n",
    "fc.filter_pattern = ['*.csv', '*.xlsx', '*.json', '*.zip', '*.geojson']"
   ]
  },
  {
   "cell_type": "markdown",
   "metadata": {},
   "source": [
    "<span style=\"color:red\">Skip the next cell if selecting a mapping file from the working directory</span>"
   ]
  },
  {
   "cell_type": "code",
   "execution_count": null,
   "metadata": {},
   "outputs": [],
   "source": [
    "# locally upload a geometry mapping file\n",
    "file_input"
   ]
  },
  {
   "cell_type": "code",
   "execution_count": null,
   "metadata": {},
   "outputs": [],
   "source": [
    "# display locally uploaded mapping file\n",
    "if file_input.filename != None:\n",
    "    extension = file_input.filename.split('.')[1]\n",
    "    if extension == 'csv':\n",
    "        data = io.StringIO(file_input.value.decode('utf-8'))\n",
    "        geo_df = pd.read_csv(data)\n",
    "    elif extension == 'xlsx':\n",
    "        data = io.BytesIO()\n",
    "        data.write(file_input.value)\n",
    "        data.seek(0)\n",
    "        geo_df = pd.read_excel(data) \n",
    "    elif extension == 'json':\n",
    "        data = file_input.value\n",
    "        data = data.decode('utf-8')\n",
    "        d = json.dumps(data)\n",
    "        geo_df = pd.read_json(eval(d))\n",
    "    elif extension == 'zip':\n",
    "        data = file_input.value\n",
    "        with fiona.BytesCollection(data) as file:\n",
    "            geo_df = gpd.GeoDataFrame.from_features(file, crs=file.crs)\n",
    "    else:\n",
    "        geo_df = gpd.read_file(io.BytesIO(file_input.value))"
   ]
  },
  {
   "cell_type": "markdown",
   "metadata": {},
   "source": [
    "<span style=\"color:red\">Skip the next cell if mapping file has been uploaded locally</span>"
   ]
  },
  {
   "cell_type": "code",
   "execution_count": null,
   "metadata": {},
   "outputs": [],
   "source": [
    "# select geometry mapping file from working directory\n",
    "display(fc)"
   ]
  },
  {
   "cell_type": "code",
   "execution_count": null,
   "metadata": {},
   "outputs": [],
   "source": [
    "# display mapping file\n",
    "if fc.selected != None:\n",
    "    file_extension = fc.selected.split('.')[1]\n",
    "    if file_extension == 'csv':\n",
    "        geo_df = pd.read_csv(fc.selected)\n",
    "    elif file_extension == 'xlsx':\n",
    "        geo_df = pd.read_excel(fc.selected)\n",
    "    elif file_extension == 'json':\n",
    "        geo_df = pd.read_json(fc.selected)\n",
    "    else:\n",
    "        geo_df = gpd.read_file(fc.selected)\n",
    "\n",
    "geo_df = geo_df.dropna(axis=0) # drop NaNs if they exist in the mapping file\n",
    "geo_df['None'] = None # placeholder columnm for no selection\n",
    "geo_df.head()"
   ]
  },
  {
   "cell_type": "code",
   "execution_count": null,
   "metadata": {},
   "outputs": [],
   "source": [
    "# select relevant geometry column(s) from mapping file - (label col, merge col, geometry col)\n",
    "label_selector = pn.widgets.Select(name='Select Geometry Label Column',value='None',options=geo_df.columns.to_list())\n",
    "merge_selector = pn.widgets.Select(name='Select Merging Column',value='None',options = geo_df.columns.to_list())\n",
    "geo_selector = pn.widgets.Select(name='Select Geometry Column',value='None',options = geo_df.columns.to_list())\n",
    "pn.Column(label_selector,merge_selector,geo_selector)"
   ]
  },
  {
   "cell_type": "code",
   "execution_count": null,
   "metadata": {},
   "outputs": [],
   "source": [
    "# columns selected:\n",
    "cols = [label_selector.value, merge_selector.value, geo_selector.value]\n",
    "merge_col = merge_selector.value\n",
    "geometry_col = geo_selector.value\n",
    "print('Selected Geometry Label Column: ' + label_selector.value + '\\n'\n",
    "     'Selected Merging Column: ' + merge_col + '\\n'\n",
    "     'Selected Geometry Column: '  + geometry_col)"
   ]
  },
  {
   "cell_type": "code",
   "execution_count": null,
   "metadata": {},
   "outputs": [],
   "source": [
    "# ensure spatial entities in merging column are all unique\n",
    "unique_entries = len(geo_df[merge_col].unique())\n",
    "total_entries = geo_df.shape[0]\n",
    "if unique_entries != total_entries:\n",
    "    raise Exception('Non-unique spatial entities found in mapping file. Clean or engineer ' +\n",
    "                    'merging column to contain a unique spatial entity per row in the mapping file.')"
   ]
  },
  {
   "cell_type": "markdown",
   "metadata": {},
   "source": [
    "<h2><span style=\"color:red\">4a. Optional: Clean spatial grouping variable and merging column</span></h2>\n"
   ]
  },
  {
   "cell_type": "markdown",
   "metadata": {},
   "source": [
    "Replace this code block with your own cleaning functions prior to map creation. Skip this cell if the spatial grouping variable is cleaned in the original survey dataframe and the merging column is cleaned in the mapping file."
   ]
  },
  {
   "cell_type": "code",
   "execution_count": null,
   "metadata": {},
   "outputs": [],
   "source": [
    "# sample cleaning functions\n",
    "def clean_zip(data):\n",
    "    \"\"\"\n",
    "    Cleans zip codes separated by '-' and returns as float\n",
    "    \"\"\"\n",
    "    if type(data) == float:\n",
    "        return data\n",
    "    elif '-' in data:\n",
    "        return float(data.split('-')[0])\n",
    "    return float(data)\n",
    "\n",
    "def clean_spaces(data):\n",
    "    \"\"\"\n",
    "    Removes unnecessary whitespace from data\n",
    "    \"\"\"\n",
    "    data = data.strip(' ')\n",
    "    data = re.sub(r\"\\s+\", \" \", data)\n",
    "    return data\n",
    "\n",
    "# Ex. cleaning spatial grouping variable and merging column\n",
    "\n",
    "# df[grouping_var] = df[grouping_var].apply(clean_zip)\n",
    "\n",
    "# df[grouping_var] = df[grouping_var].apply(clean_spaces)\n",
    "# geo_df[merge_col] = geo_df[merge_col].apply(clean_spaces)\n",
    "\n",
    "# Ex. engineering merging column to contain all unique entries\n",
    "\n",
    "# add col to ukraine mapping file\n",
    "# geo_df[merge_col] = geo_df[merge_col] + ' -' + geo_df[cols[0]]\n",
    "# geo_df.head()"
   ]
  },
  {
   "cell_type": "markdown",
   "metadata": {},
   "source": [
    "## 5. Generate aggregate map CSV file"
   ]
  },
  {
   "cell_type": "code",
   "execution_count": null,
   "metadata": {},
   "outputs": [],
   "source": [
    "# generate aggregate data by spatial grouping from variable mapping \n",
    "def map_numerical(df, column):\n",
    "    \"\"\"\n",
    "    Returns a dataframe of a numeric variable mean aggregated by spatial grouping\n",
    "    \"\"\"\n",
    "    out = df.groupby(grouping_var)[column].mean().to_frame()\n",
    "    col_selected = column.split('#')\n",
    "    new_cols = [col_selected[0] + '_mean#' + col_selected[1]]\n",
    "    out.columns = new_cols\n",
    "    out = out.reset_index().fillna(0)\n",
    "    out = out.rename_axis(None, axis=1)\n",
    "    return out.round(3)\n",
    "\n",
    "def map_categorical(df, column):\n",
    "    \"\"\" \n",
    "    Returns a dataframe of a categorical variable counts aggregated by spatial grouping\n",
    "    \"\"\"\n",
    "    out = df.groupby(grouping_var)[column].value_counts(normalize=True).unstack()\n",
    "    col_selected = column.split('#')\n",
    "    new_cols = [col_selected[0] + '_' + i + '#number' for i in out.columns]\n",
    "    out.columns = new_cols\n",
    "    out = out.reset_index().fillna(0)\n",
    "    out = out.rename_axis(None, axis=1)\n",
    "    return out.round(3)\n",
    "\n",
    "try:\n",
    "    if suave_tag == 'numerical':\n",
    "        suave_out = map_numerical(df, selected) # mapping for numerical variables\n",
    "    else:\n",
    "        suave_out = map_categorical(df, selected) # mapping for categorical (radio/checkbox) variables\n",
    "except:\n",
    "    print(\"Incorrect SuAVE variable type selected. Restart the kernel, \" +\n",
    "          \"reselect the SuAVE variable type, and rerun all cells.\")\n",
    "    raise\n",
    "suave_out = suave_out.replace(0, '') # prevent displaying aggregations with no data\n",
    "suave_out.head()"
   ]
  },
  {
   "cell_type": "code",
   "execution_count": null,
   "metadata": {},
   "outputs": [],
   "source": [
    "# add geometry data to output\n",
    "geo_df = geo_df[cols]\n",
    "geo_df[merge_col] = geo_df[merge_col].astype(str)\n",
    "\n",
    "# set merge column data type to numeric if its a numeric variable\n",
    "num_numeric = geo_df[merge_col].str.isnumeric().sum()\n",
    "if num_numeric == geo_df.shape[0]:\n",
    "    geo_df[merge_col] = geo_df[merge_col].astype(float)\n",
    "    \n",
    "# merge geometry data to input dataframe\n",
    "suave_geo = suave_out.merge(geo_df, left_on=grouping_var, right_on=merge_col)\n",
    "suave_geo = suave_geo.drop(columns = grouping_var)\n",
    "suave_geo = suave_geo.rename(columns={geometry_col: 'geometry#hiddenmore'})"
   ]
  },
  {
   "cell_type": "code",
   "execution_count": null,
   "metadata": {},
   "outputs": [],
   "source": [
    "# display output survey dataframe\n",
    "shared_entries = len(set(suave_out[grouping_var]).intersection(set(geo_df[merge_col])))\n",
    "different_entries = set(suave_out[grouping_var]).difference(set(suave_geo[merge_col]))\n",
    "\n",
    "if shared_entries == 0 and suave_geo.shape[0] == 0:\n",
    "    raise Exception('Empty dataframe. No shared entries found to merge survey and mapping file. ' +\n",
    "                    'Restart the kernel and ensure both the merging column in the mapping file ' +\n",
    "                    'and the spatial grouping variable in the original survey are cleaned and have ' +\n",
    "                    'shared entries to merge.')\n",
    "elif different_entries != set():\n",
    "    printmd(\"<b><span style='color:red'>USER WARNING: The following spatial entities could not be \" +\n",
    "            \"matched \" + str(different_entries) + \". Ensure these entries are found in the merging \" +\n",
    "            \"column in the geometry mapping file.</span></b>\")\n",
    "\n",
    "suave_geo.head()"
   ]
  },
  {
   "cell_type": "markdown",
   "metadata": {},
   "source": [
    "## 6. Save the new version of CSV file, and give a name to new survey"
   ]
  },
  {
   "cell_type": "code",
   "execution_count": null,
   "metadata": {},
   "outputs": [],
   "source": [
    "new_file = suaveint.save_csv_file(suave_geo, absolutePath, csv_file)"
   ]
  },
  {
   "cell_type": "code",
   "execution_count": null,
   "metadata": {},
   "outputs": [],
   "source": [
    "# Input survey name\n",
    "\n",
    "from IPython.display import display\n",
    "input_text = widgets.Text(placeholder='Enter Survey Name...')\n",
    "output_text = widgets.Text()\n",
    "\n",
    "def bind_input_to_output(sender):\n",
    "    output_text.value = input_text.value\n",
    "\n",
    "# Tell the text input widget to call bind_input_to_output() on submit\n",
    "input_text.on_submit(bind_input_to_output)\n",
    "\n",
    "printmd(\"<b><span style='color:red'>Input survey name here, press Enter, and then run the next cell:</span></b>\")\n",
    "# Display input text box widget for input\n",
    "display(input_text)\n",
    "\n",
    "display(output_text)"
   ]
  },
  {
   "cell_type": "code",
   "execution_count": null,
   "metadata": {},
   "outputs": [],
   "source": [
    "# Print survey name\n",
    "survey_name = output_text.value\n",
    "printmd(\"<b><span style='color:red'>Survey Name is: </span></b>\" + survey_name)"
   ]
  },
  {
   "cell_type": "markdown",
   "metadata": {},
   "source": [
    "## 7. Generate the survey and create survey URL"
   ]
  },
  {
   "cell_type": "code",
   "execution_count": null,
   "metadata": {},
   "outputs": [],
   "source": [
    "suaveint.create_survey(survey_url,new_file, survey_name, dzc_file, user, csv_file, view, views)"
   ]
  }
 ],
 "metadata": {
  "kernelspec": {
   "display_name": "Python 3",
   "language": "python",
   "name": "python3"
  },
  "language_info": {
   "codemirror_mode": {
    "name": "ipython",
    "version": 3
   },
   "file_extension": ".py",
   "mimetype": "text/x-python",
   "name": "python",
   "nbconvert_exporter": "python",
   "pygments_lexer": "ipython3",
   "version": "3.7.6"
  }
 },
 "nbformat": 4,
 "nbformat_minor": 4
}
