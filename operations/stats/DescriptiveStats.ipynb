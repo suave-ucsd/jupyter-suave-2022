{
 "cells": [
  {
   "cell_type": "markdown",
   "metadata": {},
   "source": [
    "<h1><span style=\"color:red\">Descriptive Statistics for Numeric Variables</span></h1>\n",
    "\n",
    "This sample notebook reads numeric variables from survey dataset and computes several descriptive statistics"
   ]
  },
  {
   "cell_type": "markdown",
   "metadata": {},
   "source": [
    "## 1. Retrieve survey parameters from the URL"
   ]
  },
  {
   "cell_type": "code",
   "execution_count": null,
   "metadata": {},
   "outputs": [],
   "source": [
    "%%javascript\n",
    "function getQueryStringValue (key)\n",
    "{  \n",
    "    return unescape(window.location.search.replace(new RegExp(\"^(?:.*[&\\\\?]\" + escape(key).replace(/[\\.\\+\\*]/g, \"\\\\$&\") + \"(?:\\\\=([^&]*))?)?.*$\", \"i\"), \"$1\"));\n",
    "}\n",
    "IPython.notebook.kernel.execute(\"survey_url='\".concat(getQueryStringValue(\"surveyurl\")).concat(\"'\"));\n",
    "IPython.notebook.kernel.execute(\"views='\".concat(getQueryStringValue(\"views\")).concat(\"'\"));\n",
    "IPython.notebook.kernel.execute(\"view='\".concat(getQueryStringValue(\"view\")).concat(\"'\"));\n",
    "IPython.notebook.kernel.execute(\"user='\".concat(getQueryStringValue(\"user\")).concat(\"'\"));\n",
    "IPython.notebook.kernel.execute(\"csv_file='\".concat(getQueryStringValue(\"csv\")).concat(\"'\")); \n",
    "IPython.notebook.kernel.execute(\"dzc_file='\".concat(getQueryStringValue(\"dzc\")).concat(\"'\")); \n",
    "IPython.notebook.kernel.execute(\"params='\".concat(getQueryStringValue(\"params\")).concat(\"'\")); \n",
    "IPython.notebook.kernel.execute(\"active_object='\".concat(getQueryStringValue(\"activeobject\")).concat(\"'\")); \n",
    "IPython.notebook.kernel.execute(\"full_notebook_url='\" + window.location + \"'\"); "
   ]
  },
  {
   "cell_type": "code",
   "execution_count": null,
   "metadata": {},
   "outputs": [],
   "source": [
    "print(\"user = \" + str(user))\n",
    "print(\"survey_url = \" + str(survey_url))\n",
    "print(\"views = \" + str(views))\n",
    "print(\"view = \" + str(view))\n",
    "print(\"csv_file = \" + str(csv_file))\n",
    "print(\"dzc_file = \" + str(dzc_file))\n",
    "print(\"params = \" + str(params))\n",
    "print(\"active_object = \" + str(active_object))\n",
    "print(\"full_notebook_url = \" + str(full_notebook_url))"
   ]
  },
  {
   "cell_type": "code",
   "execution_count": null,
   "metadata": {
    "scrolled": true
   },
   "outputs": [],
   "source": [
    "# common imports\n",
    "from __future__ import print_function\n",
    "from ipywidgets import interact, interactive, fixed, interact_manual\n",
    "import ipywidgets as widgets\n",
    "from IPython.display import Markdown, display\n",
    "\n",
    "import pandas as pd\n",
    "pd.set_option('display.max_colwidth', 0)\n",
    "    \n",
    "import numpy as np\n",
    "import panel as pn\n",
    "\n",
    "def printmd(string):\n",
    "    display(Markdown(string))\n",
    "\n",
    "absolutePath = \"../../temp_csvs/\"\n",
    "\n",
    "# local imports\n",
    "import sys\n",
    "sys.path.insert(1, '../../helpers')\n",
    "import panel_libs as panellibs\n",
    "import suave_integration as suaveint\n",
    "\n",
    "# specific imports\n",
    "import math\n",
    "import matplotlib.pyplot as plt\n",
    "import seaborn as sb\n",
    "# from sklearn.linear_model import LinearRegression\n",
    "import os\n",
    "\n"
   ]
  },
  {
   "cell_type": "markdown",
   "metadata": {},
   "source": [
    "## 2. Read the survey file and extract numeric variables"
   ]
  },
  {
   "cell_type": "code",
   "execution_count": null,
   "metadata": {},
   "outputs": [],
   "source": [
    "# read the csv file\n",
    "df = panellibs.extract_data(absolutePath + csv_file)# print(absolutePath + csv_file)\n",
    "\n",
    "# create a list of variable names\n",
    "variables_df = pd.DataFrame({'varname':df.columns})\n",
    "printmd(\"<b><span style='color:red'>All variables in the survey file:</span></b>\")\n",
    "print(variables_df.varname.values)\n",
    "\n",
    "# create a dictionary of #number variables with abbreviated and full variable names \n",
    "var_list = {n[:n.index('#')]:n for n in variables_df.varname.values if '#number' in n}\n",
    "printmd(\"<b><span style='color:red'>Numeric variables:</span></b>\")\n",
    "for key, value in var_list.items():\n",
    "    print(key, ' : ', value)\n",
    "\n",
    "#create a dataframe of only #number variables\n",
    "nums_df = df[[n for n in variables_df.varname.values if '#number' in n]]\n"
   ]
  },
  {
   "cell_type": "markdown",
   "metadata": {},
   "source": [
    "## 3. Matrix of scatterplots\n",
    "\n",
    "- Select variables for the scatterplots in the first cell\n",
    "- Generate the scatterplots in the second cell"
   ]
  },
  {
   "cell_type": "code",
   "execution_count": null,
   "metadata": {},
   "outputs": [],
   "source": [
    "# Coerce #number variables that aren't numeric, to be numeric, if possible\n",
    "for i in list(nums_df):\n",
    "    pd.to_numeric(i, errors='coerce')\n"
   ]
  },
  {
   "cell_type": "code",
   "execution_count": null,
   "metadata": {},
   "outputs": [],
   "source": [
    "# Examine the dataframe\n",
    "with pd.option_context(\"display.max_columns\", None):\n",
    "    display(nums_df)\n"
   ]
  },
  {
   "cell_type": "code",
   "execution_count": null,
   "metadata": {},
   "outputs": [],
   "source": [
    "# 3.1 Choose variables for scattermatrix\n",
    "\n",
    "#creating widgets\n",
    "wlist = []\n",
    "i = 0\n",
    "\n",
    "while i < 5 and i < len(var_list):\n",
    "    wlist.append(widgets.Dropdown(options=var_list.keys(), value = list(var_list.keys())[i], description = str(i+1) + \":\"))\n",
    "    i += 1\n",
    "  \n",
    "printmd(\"<b><span style='color:red'>Select variables for scatter matrix plotting, then run the next cell</span></b>\")\n",
    "\n",
    "for n in wlist:\n",
    "    display(n)"
   ]
  },
  {
   "cell_type": "code",
   "execution_count": null,
   "metadata": {},
   "outputs": [],
   "source": [
    "# 3.2 Create the scattermatrix\n",
    "\n",
    "#scattermatrix\n",
    "scat_df = df[[var_list[n.value] for n in wlist]]\n",
    "\n",
    "#check if all variables are different\n",
    "if len(list(scat_df)) != scat_df.columns.nunique():\n",
    "    printmd(\"<b><span style='color:red'>Make sure all selected variables are different, then rerun this cell</span></b>\")\n",
    "else:\n",
    "    \n",
    "    # keep only variables that are really numeric\n",
    "    scat2_df = scat_df.select_dtypes(include=[np.number])\n",
    "    for col in scat2_df.columns:\n",
    "#         print(col+\"   \"+ str(scat2_df[col].nunique()))\n",
    "        if scat2_df[col].nunique() < 2:\n",
    "            scat2_df.drop(col, axis=1, inplace=True)\n",
    "\n",
    "#     for col in scat_df.columns:\n",
    "#         print(col+\"   \"+ str(scat_df[col].nunique()))\n",
    "\n",
    "    # which columns were excluded:\n",
    "    for item in list(set(list(scat_df.columns)) - set(scat2_df.columns)):\n",
    "        printmd(\"<b><span style='color:red'>Non-numeric or singular variables excluded: </span></b>\" + item)\n",
    "        print(scat_df[item].describe())\n",
    "\n",
    "    w2dict = {n[:n.index('#')]:n for n in scat2_df.columns}\n",
    "    w2list = list(w2dict.keys())\n",
    "    \n",
    "    #plot\n",
    "    printmd(\"<br><b><span style='color:red'>Scatter matrix for the selected numeric variables</span></b>\")\n",
    "    wot = pd.plotting.scatter_matrix(scat2_df, alpha=0.2, figsize=(10, 10), diagonal='kde')\n",
    "    #axis\n",
    "    for n in range(len(wot)):\n",
    "        for j in range(len(wot)):\n",
    "            ax = wot[n, j]\n",
    "            ax.set(xlabel=w2list[j], ylabel=w2list[n])\n",
    "\n"
   ]
  },
  {
   "cell_type": "markdown",
   "metadata": {},
   "source": [
    "## 4. Scatterplot and linear regression\n",
    "\n",
    "- Select variables for the regression in the first cell\n",
    "- Generate the plot in the second cell"
   ]
  },
  {
   "cell_type": "code",
   "execution_count": null,
   "metadata": {},
   "outputs": [],
   "source": [
    "# 4.1 Choose the variables for the scatterplot\n",
    "\n",
    "#creating widgets\n",
    "a4 = widgets.Dropdown(options=var_list.keys(), value = list(var_list.keys())[0], description = \"x:\")\n",
    "b4 = widgets.Dropdown(options=var_list.keys(), value = list(var_list.keys())[1], description = \"y:\")\n",
    "ui = widgets.VBox([a4, b4])\n",
    "def f4(a, b):\n",
    "    return ((a, b))\n",
    "\n",
    "printmd(\"<b><span style='color:red'>Select x and y variables for plotting, then run the next cell</span></b>\")\n",
    "\n",
    "formula = widgets.interactive_output(f4, {'a': a4, 'b': b4})\n",
    "\n",
    "display(ui, formula)\n"
   ]
  },
  {
   "cell_type": "code",
   "execution_count": null,
   "metadata": {},
   "outputs": [],
   "source": [
    "var_list[a4.value]"
   ]
  },
  {
   "cell_type": "code",
   "execution_count": null,
   "metadata": {},
   "outputs": [],
   "source": [
    "# 4.2 Create the scatterplot and regression line\n",
    "\n",
    "from pandas.api.types import is_numeric_dtype\n",
    "\n",
    "x4 = df[var_list[a4.value]].tolist()\n",
    "y4 = df[var_list[b4.value]].tolist()\n",
    "\n",
    "if not is_numeric_dtype(df[var_list[a4.value]]):\n",
    "    printmd(\"<b><span style='color:red'>\"+ var_list[a4.value] + \" is not numeric. Cannot plot.</span></b>\")\n",
    "    print(df[var_list[a4.value]].describe())\n",
    "\n",
    "if not is_numeric_dtype(df[var_list[b4.value]]):\n",
    "    printmd(\"<b><span style='color:red'>\"+ var_list[b4.value] + \" is not numeric. Cannot plot.</span></b>\")\n",
    "    print(df[var_list[b4.value]].describe())\n",
    "\n",
    "if is_numeric_dtype(df[var_list[b4.value]]) and is_numeric_dtype(df[var_list[a4.value]]):\n",
    "\n",
    "# check if variables different\n",
    "    if a4.value == b4.value:\n",
    "        printmd(\"<b><span style='color:red'>Make sure the selected variables are different, then rerun this cell</span></b>\")\n",
    "\n",
    "    else:\n",
    "        try:\n",
    "            printmd(\"<b><span style='color:red'><br>Scatterplot with regression line and confidence intervals:</span></b>\")\n",
    "            ax = sb.regplot(x=var_list[a4.value], y=var_list[b4.value], data=df, scatter_kws={\"s\": 20, \"color\" : \"red\", \"alpha\" : 0.2})\n",
    "            #axis\n",
    "            ax.set(xlabel=a4.value, ylabel=b4.value)\n",
    "            plt.show()\n",
    "        except:\n",
    "            printmd(\"<b><span style='color:red'>Cannot plot. One or both variables contain non-numeric values!!</span></b>\")\n",
    "\n"
   ]
  },
  {
   "cell_type": "markdown",
   "metadata": {},
   "source": [
    "## 5. Mean, standard deviation, skew, etc...\n",
    "\n",
    "- Select a variable in the first cell\n",
    "- Generate statistics in the second cell"
   ]
  },
  {
   "cell_type": "code",
   "execution_count": null,
   "metadata": {},
   "outputs": [],
   "source": [
    "# 5.2 Choose the variable to calculate descriptive statistics\n",
    "\n",
    "# creating widgets\n",
    "a5 = widgets.Dropdown(options=var_list.keys(), description = \"Variable:\")\n",
    "ui = widgets.VBox([a5])\n",
    "def f5(a):\n",
    "    return (a)\n",
    "\n",
    "printmd(\"<b><span style='color:red'><br>Select variable for descriptive statistics, then run the next cell</span></b>\")\n",
    "\n",
    "formula = widgets.interactive_output(f5, {'a': a5})\n",
    "\n",
    "display(ui, formula)"
   ]
  },
  {
   "cell_type": "code",
   "execution_count": null,
   "metadata": {},
   "outputs": [],
   "source": [
    "# 5.2 Show the descriptive statistics\n",
    "\n",
    "try:\n",
    "    # calculating descriptive stats\n",
    "    var = df[var_list[a5.value]]\n",
    "    vmean = var.mean()\n",
    "    vsd = var.std()\n",
    "    vskew = var.skew()\n",
    "    vvar = var.var()\n",
    "\n",
    "    # printing descriptive stats\n",
    "    print(\"Mean of variable   : \" + str(vmean))\n",
    "    print(\"Standard deviation : \" + str(vsd))\n",
    "    print(\"Variance           : \" + str(vvar))\n",
    "    print(\"Skew               : \" + str(vskew))\n",
    "\n",
    "    # plot\n",
    "    print(\"Histogram          :\")\n",
    "    ax = var.hist()\n",
    "    # axis\n",
    "    ax.set(xlabel=a5.value)\n",
    "    noout = plt.axvline(vmean, color='red', linestyle='dashed', linewidth=2)\n",
    "except:\n",
    "    printmd(var_list[a5.value] +\"<b><span style='color:red'> contains non-numeric values!! Cannot compute</span></b>\")\n",
    "    print(df[var_list[a5.value]].describe())\n"
   ]
  },
  {
   "cell_type": "markdown",
   "metadata": {},
   "source": [
    "## 6. Generate a new statistical variable to add to SuAVE\n",
    "\n",
    "- select a variable and an operation in the first cell\n",
    "- edit variable name in the second cell\n",
    "- compute the new variable in the third cell"
   ]
  },
  {
   "cell_type": "code",
   "execution_count": null,
   "metadata": {
    "scrolled": true
   },
   "outputs": [],
   "source": [
    "# 6.1 Select a variable for processing\n",
    "\n",
    "a6 = widgets.Dropdown(options=var_list.keys())\n",
    "b6 = widgets.Dropdown(options=['Number of SDs', 'Abs dist from mean'])\n",
    "ui = widgets.VBox([a6, b6])\n",
    "def f6(a, b):\n",
    "    return ((a, b))\n",
    "\n",
    "formula = widgets.interactive_output(f6, {'a': a6, 'b': b6})\n",
    "\n",
    "printmd(\"<b><span style='color:red'><br>Select a variable and a derivative to create, then run the next cell</span></b>\")\n",
    "\n",
    "display(ui, formula)"
   ]
  },
  {
   "cell_type": "code",
   "execution_count": null,
   "metadata": {},
   "outputs": [],
   "source": [
    "# 6.2 Give a name to the new variable\n",
    "\n",
    "def f62(Var_Name):\n",
    "    return Var_Name\n",
    "if b6.value == \"Abs dist from mean\":\n",
    "    newvar = interact(f62, Var_Name= \"ADFM\" + \" on \" + a6.value +'#number')\n",
    "elif b6.value == \"Number of SDs\":\n",
    "    newvar = interact(f62, Var_Name= \"NSD\" + \" for \" + a6.value +'#number')\n",
    "    \n",
    "printmd(\"<b><span style='color:red'>After defining variable name hit Enter, then run the next cell</span></b>\")\n"
   ]
  },
  {
   "cell_type": "code",
   "execution_count": null,
   "metadata": {},
   "outputs": [],
   "source": [
    "# 6.3 Compute the new variable and format it for SuAVE\n",
    "\n",
    "try: \n",
    "    mean = df[var_list[a6.value]].mean()\n",
    "    std = df[var_list[a6.value]].std()\n",
    "\n",
    "    if b6.value == 'Abs dist from mean':\n",
    "        df[newvar.widget.result] = [abs(i - mean) if not math.isnan(i) else np.nan for i in df[var_list[a6.value]]]\n",
    "    elif b6.value == 'Number of SDs':\n",
    "        df[newvar.widget.result] = [math.ceil(abs(i - mean) / std) if not math.isnan(i) else np.nan for i in df[var_list[a6.value]]]\n",
    "\n",
    "\n",
    "    # make sure there are no illegal NaN type values in this #number variable\n",
    "    df[newvar.widget.result].fillna('',inplace=True)\n",
    "    df[newvar.widget.result] = pd.to_numeric(df[newvar.widget.result], errors='coerce', downcast='float')\n",
    "    df[newvar.widget.result] = df[newvar.widget.result].apply(lambda x: '{:.6f}'.format(x))\n",
    "    df.replace(['None', 'nan'], np.nan, inplace=True)\n",
    "    printmd(\"<b><span style='color:red'>New variable computed</span></b>\")\n",
    "\n",
    "except:\n",
    "    printmd(var_list[a6.value] +\"<b><span style='color:red'> contains non-numeric values!! Cannot compute</span></b>\")\n",
    "    print(df[var_list[a6.value]].describe())\n"
   ]
  },
  {
   "cell_type": "markdown",
   "metadata": {},
   "source": [
    "## 7. Visualize the resultant dataframe"
   ]
  },
  {
   "cell_type": "code",
   "execution_count": null,
   "metadata": {},
   "outputs": [],
   "source": [
    "with pd.option_context(\"display.max_columns\", None):\n",
    "    if any(\"geometry\" in col for col in df.columns):\n",
    "        display(df.drop(['geometry'],axis=1))\n",
    "    else:\n",
    "        display(df)\n",
    "    \n",
    "    "
   ]
  },
  {
   "cell_type": "markdown",
   "metadata": {},
   "source": [
    "## 8. Save the new version of CSV file, and give a name to new survey"
   ]
  },
  {
   "cell_type": "code",
   "execution_count": null,
   "metadata": {},
   "outputs": [],
   "source": [
    "new_file = suaveint.save_csv_file(df, absolutePath, csv_file)"
   ]
  },
  {
   "cell_type": "code",
   "execution_count": null,
   "metadata": {},
   "outputs": [],
   "source": [
    "#Input survey name\n",
    "\n",
    "from IPython.display import display\n",
    "input_text = widgets.Text(placeholder='Enter Survey Name...')\n",
    "output_text = widgets.Text()\n",
    "\n",
    "def bind_input_to_output(sender):\n",
    "    output_text.value = input_text.value\n",
    "\n",
    "# Tell the text input widget to call bind_input_to_output() on submit\n",
    "input_text.on_submit(bind_input_to_output)\n",
    "\n",
    "printmd(\"<b><span style='color:red'>Input survey name here, press Enter, and then run the next cell:</span></b>\")\n",
    "# Display input text box widget for input\n",
    "display(input_text)\n",
    "\n",
    "display(output_text)\n"
   ]
  },
  {
   "cell_type": "code",
   "execution_count": null,
   "metadata": {},
   "outputs": [],
   "source": [
    "#Print survey name\n",
    "survey_name = output_text.value\n",
    "printmd(\"<b><span style='color:red'>Survey Name is: </span></b>\" + survey_name)"
   ]
  },
  {
   "cell_type": "markdown",
   "metadata": {},
   "source": [
    "## 9. Generate the survey and create survey URL"
   ]
  },
  {
   "cell_type": "code",
   "execution_count": null,
   "metadata": {},
   "outputs": [],
   "source": [
    "suaveint.create_survey(survey_url,new_file, survey_name, dzc_file, user, csv_file, view, views)"
   ]
  },
  {
   "cell_type": "code",
   "execution_count": null,
   "metadata": {},
   "outputs": [],
   "source": []
  }
 ],
 "metadata": {
  "kernelspec": {
   "display_name": "Python 3",
   "language": "python",
   "name": "python3"
  },
  "language_info": {
   "codemirror_mode": {
    "name": "ipython",
    "version": 3
   },
   "file_extension": ".py",
   "mimetype": "text/x-python",
   "name": "python",
   "nbconvert_exporter": "python",
   "pygments_lexer": "ipython3",
   "version": "3.8.6"
  },
  "toc": {
   "base_numbering": 1,
   "nav_menu": {},
   "number_sections": true,
   "sideBar": true,
   "skip_h1_title": true,
   "title_cell": "Table of Contents",
   "title_sidebar": "Contents",
   "toc_cell": false,
   "toc_position": {},
   "toc_section_display": true,
   "toc_window_display": false
  }
 },
 "nbformat": 4,
 "nbformat_minor": 2
}
