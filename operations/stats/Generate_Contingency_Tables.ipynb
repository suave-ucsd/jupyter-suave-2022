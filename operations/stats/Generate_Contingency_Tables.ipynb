{
 "cells": [
  {
   "cell_type": "markdown",
   "metadata": {},
   "source": [
    "<h1><span style=\"color:red\">Generate Contingency Tables</span></h1>\n",
    "\n",
    "### This notebook reads numeric and categorical variables from the survey dataset, lets users compute a contingency table from variables of interest and test for independence."
   ]
  },
  {
   "cell_type": "markdown",
   "metadata": {},
   "source": [
    "## 1. Retrieve survey parameters from the URL"
   ]
  },
  {
   "cell_type": "code",
   "execution_count": null,
   "metadata": {},
   "outputs": [],
   "source": [
    "%%javascript\n",
    "function getQueryStringValue (key)\n",
    "{  \n",
    "    return unescape(window.location.search.replace(new RegExp(\"^(?:.*[&\\\\?]\" + escape(key).replace(/[\\.\\+\\*]/g, \"\\\\$&\") + \"(?:\\\\=([^&]*))?)?.*$\", \"i\"), \"$1\"));\n",
    "}\n",
    "IPython.notebook.kernel.execute(\"survey_url='\".concat(getQueryStringValue(\"surveyurl\")).concat(\"'\"));\n",
    "IPython.notebook.kernel.execute(\"views='\".concat(getQueryStringValue(\"views\")).concat(\"'\"));\n",
    "IPython.notebook.kernel.execute(\"view='\".concat(getQueryStringValue(\"view\")).concat(\"'\"));\n",
    "IPython.notebook.kernel.execute(\"user='\".concat(getQueryStringValue(\"user\")).concat(\"'\"));\n",
    "IPython.notebook.kernel.execute(\"csv_file='\".concat(getQueryStringValue(\"csv\")).concat(\"'\")); \n",
    "IPython.notebook.kernel.execute(\"dzc_file='\".concat(getQueryStringValue(\"dzc\")).concat(\"'\")); \n",
    "IPython.notebook.kernel.execute(\"params='\".concat(getQueryStringValue(\"params\")).concat(\"'\")); \n",
    "IPython.notebook.kernel.execute(\"active_object='\".concat(getQueryStringValue(\"activeobject\")).concat(\"'\")); \n",
    "IPython.notebook.kernel.execute(\"full_notebook_url='\" + window.location + \"'\"); "
   ]
  },
  {
   "cell_type": "code",
   "execution_count": null,
   "metadata": {},
   "outputs": [],
   "source": [
    "# common imports\n",
    "from __future__ import print_function\n",
    "from ipywidgets import interact, interactive, fixed, interact_manual\n",
    "import ipywidgets as widgets\n",
    "from IPython.display import Markdown, display\n",
    "from ipyfilechooser import FileChooser\n",
    "\n",
    "import pandas as pd    \n",
    "import numpy as np\n",
    "import panel as pn\n",
    "import statsmodels.api as sm\n",
    "import statsmodels.formula.api as smf\n",
    "\n",
    "pn.extension()\n",
    "def printmd(string):\n",
    "    display(Markdown(string))\n",
    "\n",
    "absolutePath = \"../../temp_csvs/\"\n",
    "\n",
    "# local imports\n",
    "import sys\n",
    "sys.path.insert(1, '../../helpers')\n",
    "import panel_libs as panellibs\n",
    "import suave_integration as suaveint"
   ]
  },
  {
   "cell_type": "markdown",
   "metadata": {},
   "source": [
    "## 2. Read the survey file"
   ]
  },
  {
   "cell_type": "code",
   "execution_count": null,
   "metadata": {},
   "outputs": [],
   "source": [
    "# read the csv file\n",
    "df = panellibs.extract_data(absolutePath + csv_file)\n",
    "\n",
    "# create a list of variable names\n",
    "variables_df = pd.DataFrame({'varname':df.columns})\n",
    "printmd(\"<b><span style='color:red'>All variables in the survey file:</span></b>\")\n",
    "print(variables_df.varname.values)"
   ]
  },
  {
   "cell_type": "markdown",
   "metadata": {},
   "source": [
    "## 3. Select variables from survey"
   ]
  },
  {
   "cell_type": "code",
   "execution_count": null,
   "metadata": {},
   "outputs": [],
   "source": [
    "# select number of variables for contingency table\n",
    "n_row = pn.widgets.IntSlider(name='Select Number of Row Variables',start=1, end=2, value=1)\n",
    "n_col = pn.widgets.IntSlider(name='Select Number of Column Variables',start=1, end=2, value=1)\n",
    "\n",
    "pn.Column(n_row, n_col)"
   ]
  },
  {
   "cell_type": "code",
   "execution_count": null,
   "metadata": {},
   "outputs": [],
   "source": [
    "# select variables from survey\n",
    "row_vars = pn.widgets.MultiChoice(name='Select Row Variables for Contingency Table',\n",
    "                                  value=[], options=list(df.columns), max_items=n_row.value)\n",
    "col_vars = pn.widgets.MultiChoice(name='Select Column Variables for Contingency Table',\n",
    "                                  value=[], options=list(df.columns), max_items=n_col.value)\n",
    "pn.Row(row_vars, col_vars, height=250)"
   ]
  },
  {
   "cell_type": "markdown",
   "metadata": {},
   "source": [
    "## 4. Generate contingency table"
   ]
  },
  {
   "cell_type": "code",
   "execution_count": null,
   "metadata": {},
   "outputs": [],
   "source": [
    "def generate_table(df, row_variables, column_variables):\n",
    "    \"\"\"\n",
    "    Helper function to generate a contingency table from the input dataframe\n",
    "    with a given list of row_variables and column_variables.\n",
    "    \"\"\"\n",
    "    tab = pd.crosstab([df[row_variables[i]] for i in range(len(row_variables))],\n",
    "                      [df[column_variables[i]] for i in range(len(column_variables))])\n",
    "    table = sm.stats.Table(tab)\n",
    "    return table.table_orig, table"
   ]
  },
  {
   "cell_type": "code",
   "execution_count": null,
   "metadata": {},
   "outputs": [],
   "source": [
    "# bin all numerical variables in original df\n",
    "df_binned = df.apply(pd.to_numeric, errors='ignore')\n",
    "numeric_cols = df_binned.select_dtypes(include=np.number).columns.tolist()\n",
    "df_binned[numeric_cols] = df_binned[numeric_cols].apply(pd.cut, bins=5)\n",
    "df_binned['freq'] = 1"
   ]
  },
  {
   "cell_type": "code",
   "execution_count": null,
   "metadata": {},
   "outputs": [],
   "source": [
    "# generate contingency table\n",
    "selected_row_vars = row_vars.value\n",
    "selected_col_vars = col_vars.value\n",
    "tab = generate_table(df_binned, selected_row_vars, selected_col_vars)\n",
    "tab[0]"
   ]
  },
  {
   "cell_type": "code",
   "execution_count": null,
   "metadata": {},
   "outputs": [],
   "source": [
    "# denote shape of contingency table as two-way, three-way, or multi-way\n",
    "table_shape = None\n",
    "total_vars = len(row_vars.value + col_vars.value)\n",
    "if total_vars == 2:\n",
    "    table_shape = 'two-way'\n",
    "elif total_vars == 3:\n",
    "    table_shape = 'three-way'\n",
    "else:\n",
    "    table_shape = 'multi-way'\n",
    "table_shape"
   ]
  },
  {
   "cell_type": "markdown",
   "metadata": {},
   "source": [
    "## 5. Test for mutual independence"
   ]
  },
  {
   "cell_type": "markdown",
   "metadata": {},
   "source": [
    "For one-way tables conduct a chi-square test of independence, under the null hypothesis that the two variables of interest are independent. For three-way and multi-way tables, fit a log-linear model to test for mutual independence between all variables of interest.  "
   ]
  },
  {
   "cell_type": "code",
   "execution_count": null,
   "metadata": {},
   "outputs": [],
   "source": [
    "def chi_square(table, alpha=.05):\n",
    "    \"\"\"\n",
    "    Performs a chi-square test of independence in a\n",
    "    two-way contingency table at the given significance level\n",
    "    \"\"\"\n",
    "    chi2 = table.test_nominal_association()\n",
    "    \n",
    "    # display a warning if expected counts are < 5\n",
    "    exp_freq = table.fittedvalues.to_numpy()\n",
    "    if (exp_freq < 5).sum() != 0:\n",
    "        print(\"Warning: table contains expected frequencies less than 5.\")\n",
    "\n",
    "    # display results of chi-square test\n",
    "    p_val = chi2.pvalue\n",
    "    if p_val < alpha:\n",
    "        print(\"P-value: {}. Table variables are associated at significance level: {}\".format(p_val.round(4), alpha))\n",
    "    else:\n",
    "        print(\"P-value: {}. Table variables are independent at significance level: {}\".format(p_val.round(4), alpha))\n",
    "        \n",
    "        \n",
    "def llm_mutual(flat_table):\n",
    "    \"\"\"\n",
    "    Performs log-linear analysis of the flattened multi-way\n",
    "    contingency table using Poisson regression for mutual independence.\n",
    "    \"\"\"\n",
    "    # remove suave tags from column names (interferes with statsmodels api)\n",
    "    df_2 = flat_table.copy()\n",
    "    df_2.columns = [i.split('#')[0].replace(' ', '_') for i in flat_table.columns]\n",
    "    \n",
    "    # define predictor and response variables\n",
    "    predictors = (' + ').join([i.split('#')[0].replace(' ', '_') for i in row_vars.value + col_vars.value])\n",
    "    response = 'freq'\n",
    "    \n",
    "    # fit model\n",
    "    glm = smf.glm(response + ' ~ ' + predictors, data=df_2, family=sm.families.Poisson())\n",
    "    res_o = glm.fit()\n",
    "    print(res_o.summary())\n",
    "    return res_o"
   ]
  },
  {
   "cell_type": "code",
   "execution_count": null,
   "metadata": {},
   "outputs": [],
   "source": [
    "# perform chi-square test of independence for two-way tables\n",
    "if table_shape == 'two-way':\n",
    "    result = chi_square(tab[1])\n",
    "# perform log-linear analysis for three-way and multi-way tables\n",
    "else:\n",
    "    flat = df_binned.groupby(col_vars.value + row_vars.value).sum()['freq'].to_frame().reset_index()\n",
    "    result = llm_mutual(flat)\n",
    "result"
   ]
  },
  {
   "cell_type": "markdown",
   "metadata": {},
   "source": [
    "<h2><span style=\"color:red\">5a. Optional: Test for joint independence</span></h2>"
   ]
  },
  {
   "cell_type": "markdown",
   "metadata": {},
   "source": [
    "<span style=\"color:red\">The following log-linear models are for testing THREE-WAY tables only!</span> "
   ]
  },
  {
   "cell_type": "markdown",
   "metadata": {},
   "source": [
    "For three-way tables, test variables for joint-independence. The log-linear model tests for joint independence under the assumption that a single variable of interest is independent of the other two. The model implies that other two variables can have an arbitrary association, and that this association doesn't depend on the level of the variable of interest."
   ]
  },
  {
   "cell_type": "code",
   "execution_count": null,
   "metadata": {},
   "outputs": [],
   "source": [
    "# select a variable to test for joint indpendence\n",
    "selector = pn.widgets.Select(name='Test joint indpedence of: ', options=col_vars.value + row_vars.value)\n",
    "selector"
   ]
  },
  {
   "cell_type": "code",
   "execution_count": null,
   "metadata": {},
   "outputs": [],
   "source": [
    "def llm_joint(flat_table):\n",
    "    \"\"\"\n",
    "    Performs log-linear analysis of the flattened multi-way\n",
    "    contingency table using Poisson regression for joint independence.\n",
    "    \"\"\"\n",
    "    # remove suave tags from column names (interferes with statsmodels api)\n",
    "    df_2 = flat_table.copy()\n",
    "    df_2.columns = [i.split('#')[0].replace(' ', '_') for i in flat_table.columns]\n",
    "    \n",
    "    # define predictor and response variables\n",
    "    var = row_vars.value + col_vars.value\n",
    "    var.remove(selector.value)\n",
    "    selected_var = selector.value.split('#')[0].replace(' ', '_')\n",
    "    predictors = [i.split('#')[0].replace(' ', '_') for i in var]\n",
    "    formula = 'freq ~ ' + selected_var + ' + ' + predictors[0] + ' + ' + predictors[1] + ' + ' + \\\n",
    "                predictors[0] + ' * ' + predictors[1]\n",
    "    print('Model: ' + formula)\n",
    "    \n",
    "    # fit model\n",
    "    glm = smf.glm(formula, data=df_2, family=sm.families.Poisson())\n",
    "    res_o = glm.fit()\n",
    "    return res_o"
   ]
  },
  {
   "cell_type": "code",
   "execution_count": null,
   "metadata": {},
   "outputs": [],
   "source": [
    "if table_shape == 'three-way':\n",
    "    flat = df_binned.groupby(col_vars.value + row_vars.value).sum()['freq'].to_frame().reset_index()\n",
    "    result = llm_joint(flat)\n",
    "result.summary()"
   ]
  },
  {
   "cell_type": "markdown",
   "metadata": {},
   "source": [
    "<h2><span style=\"color:red\">5b. Optional: Test for conditional independence</span></h2>"
   ]
  },
  {
   "cell_type": "markdown",
   "metadata": {},
   "source": [
    "For three-way tables, test variables for conditional independence. The log-linear model tests for conditional indpendence under the asumption that two variables are independent, given the third."
   ]
  },
  {
   "cell_type": "code",
   "execution_count": null,
   "metadata": {},
   "outputs": [],
   "source": [
    "# select a variable to condition the independence of the remaining variables\n",
    "selector = pn.widgets.Select(name='Test if variables are indepndent given: ', options=col_vars.value + row_vars.value)\n",
    "selector"
   ]
  },
  {
   "cell_type": "code",
   "execution_count": null,
   "metadata": {},
   "outputs": [],
   "source": [
    "def llm_conditional(flat_table):\n",
    "    \"\"\"\n",
    "    Performs log-linear analysis of the flattened multi-way\n",
    "    contingency table using Poisson regression for conditional independence.\n",
    "    \"\"\"\n",
    "    # remove suave tags from column names (interferes with statsmodels api)\n",
    "    df_2 = flat_table.copy()\n",
    "    df_2.columns = [i.split('#')[0].replace(' ', '_') for i in flat_table.columns]\n",
    "    \n",
    "    # define predictor and response variables\n",
    "    var = row_vars.value + col_vars.value\n",
    "    var.remove(selector.value)\n",
    "    selected_var = selector.value.split('#')[0].replace(' ', '_')\n",
    "    predictors = [i.split('#')[0].replace(' ', '_') for i in var]\n",
    "    formula = 'freq ~ ' + selected_var + ' + ' + predictors[0] + ' + ' + predictors[1] + ' + ' + \\\n",
    "                predictors[0] + ' * ' + selected_var + '+ ' + predictors[1] +  ' * ' + selected_var\n",
    "    print('Model: ' + formula)\n",
    "    \n",
    "    # fit model\n",
    "    glm = smf.glm(formula, data=df_2, family=sm.families.Poisson())\n",
    "    res_o = glm.fit()\n",
    "    return res_o"
   ]
  },
  {
   "cell_type": "code",
   "execution_count": null,
   "metadata": {},
   "outputs": [],
   "source": [
    "if table_shape == 'three-way':\n",
    "    flat = df_binned.groupby(col_vars.value + row_vars.value).sum()['freq'].to_frame().reset_index()\n",
    "    result = llm_conditional(flat)\n",
    "result.summary()"
   ]
  },
  {
   "cell_type": "markdown",
   "metadata": {},
   "source": [
    "<h2><span style=\"color:red\">5c. Test for homogeneous association</span></h2>"
   ]
  },
  {
   "cell_type": "markdown",
   "metadata": {},
   "source": [
    "For three-way tables, test for homogeneous association between the variables. The log-linear model, or no three-factor interaction model, tests for homogeneous association and implies that the conditional reelationship between any pair of variables given the third is the same at each level of the third variable."
   ]
  },
  {
   "cell_type": "code",
   "execution_count": null,
   "metadata": {},
   "outputs": [],
   "source": [
    "def llm_association(flat_table):\n",
    "    \"\"\"\n",
    "    Performs log-linear analysis of the flattened multi-way\n",
    "    contingency table using Poisson regression for homogeneous association.\n",
    "    \"\"\"\n",
    "    # remove suave tags from column names (interferes with statsmodels api)\n",
    "    df_2 = flat_table.copy()\n",
    "    df_2.columns = [i.split('#')[0].replace(' ', '_') for i in flat_table.columns]\n",
    "    \n",
    "    # define predictor and response variables\n",
    "    predictors = (' + ').join([i.split('#')[0].replace(' ', '_') for i in row_vars.value + col_vars.value])\n",
    "    formula = 'freq ~ (' + predictors + ')**2'\n",
    "    print('Model: ' + formula)\n",
    "    \n",
    "    # fit model\n",
    "    glm = smf.glm(formula, data=df_2, family=sm.families.Poisson())\n",
    "    res_o = glm.fit()\n",
    "    return res_o"
   ]
  },
  {
   "cell_type": "code",
   "execution_count": null,
   "metadata": {},
   "outputs": [],
   "source": [
    "if table_shape == 'three-way':\n",
    "    flat = df_binned.groupby(col_vars.value + row_vars.value).sum()['freq'].to_frame().reset_index()\n",
    "    result = llm_association(flat)\n",
    "result.summary()"
   ]
  }
 ],
 "metadata": {
  "kernelspec": {
   "display_name": "Python 3",
   "language": "python",
   "name": "python3"
  },
  "language_info": {
   "codemirror_mode": {
    "name": "ipython",
    "version": 3
   },
   "file_extension": ".py",
   "mimetype": "text/x-python",
   "name": "python",
   "nbconvert_exporter": "python",
   "pygments_lexer": "ipython3",
   "version": "3.7.6"
  }
 },
 "nbformat": 4,
 "nbformat_minor": 4
}
