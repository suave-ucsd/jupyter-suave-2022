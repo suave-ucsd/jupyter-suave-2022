{
 "cells": [
  {
   "cell_type": "markdown",
   "metadata": {},
   "source": [
    "<h1><span style=\"color:red\">Generate Factor Contributions</span></h1>\n",
    "\n",
    "### This notebook reads numeric and categorical variables from the survey dataset and computes factor contributions for all levels of the variables in the survey dataset."
   ]
  },
  {
   "cell_type": "markdown",
   "metadata": {},
   "source": [
    "## 1. Retrieve survey parameters from the URL"
   ]
  },
  {
   "cell_type": "code",
   "execution_count": null,
   "metadata": {},
   "outputs": [],
   "source": [
    "%%javascript\n",
    "function getQueryStringValue (key)\n",
    "{  \n",
    "    return unescape(window.location.search.replace(new RegExp(\"^(?:.*[&\\\\?]\" + escape(key).replace(/[\\.\\+\\*]/g, \"\\\\$&\") + \"(?:\\\\=([^&]*))?)?.*$\", \"i\"), \"$1\"));\n",
    "}\n",
    "IPython.notebook.kernel.execute(\"survey_url='\".concat(getQueryStringValue(\"surveyurl\")).concat(\"'\"));\n",
    "IPython.notebook.kernel.execute(\"views='\".concat(getQueryStringValue(\"views\")).concat(\"'\"));\n",
    "IPython.notebook.kernel.execute(\"view='\".concat(getQueryStringValue(\"view\")).concat(\"'\"));\n",
    "IPython.notebook.kernel.execute(\"user='\".concat(getQueryStringValue(\"user\")).concat(\"'\"));\n",
    "IPython.notebook.kernel.execute(\"csv_file='\".concat(getQueryStringValue(\"csv\")).concat(\"'\")); \n",
    "IPython.notebook.kernel.execute(\"dzc_file='\".concat(getQueryStringValue(\"dzc\")).concat(\"'\")); \n",
    "IPython.notebook.kernel.execute(\"params='\".concat(getQueryStringValue(\"params\")).concat(\"'\")); \n",
    "IPython.notebook.kernel.execute(\"active_object='\".concat(getQueryStringValue(\"activeobject\")).concat(\"'\")); \n",
    "IPython.notebook.kernel.execute(\"full_notebook_url='\" + window.location + \"'\"); "
   ]
  },
  {
   "cell_type": "code",
   "execution_count": null,
   "metadata": {},
   "outputs": [],
   "source": [
    "# common imports\n",
    "from __future__ import print_function\n",
    "from ipywidgets import interact, interactive, fixed, interact_manual\n",
    "import ipywidgets as widgets\n",
    "from IPython.display import Markdown, display\n",
    "\n",
    "from io import StringIO\n",
    "import re\n",
    "import datetime\n",
    "import pandas as pd    \n",
    "import panel as pn\n",
    "import numpy as np\n",
    "import matplotlib.pyplot as plt\n",
    "from helper import *\n",
    "\n",
    "pn.extension('tabulator')\n",
    "def printmd(string):\n",
    "    display(Markdown(string))\n",
    "\n",
    "absolutePath = \"../../temp_csvs/\"\n",
    "\n",
    "# local imports\n",
    "import sys\n",
    "sys.path.insert(1, '../../helpers')\n",
    "import panel_libs as panellibs\n",
    "import suave_integration as suaveint"
   ]
  },
  {
   "cell_type": "code",
   "execution_count": null,
   "metadata": {},
   "outputs": [],
   "source": [
    "# helper functions for widget interaction and events\n",
    "def b(event):\n",
    "    \"\"\"\n",
    "    Updates bin sliders when \"next\" is clicked\n",
    "    \"\"\"\n",
    "    if next_bin.clicks == 0:\n",
    "        return\n",
    "    selected_col = binnable.value[next_var.clicks]\n",
    "    if next_bin.clicks < num.value:\n",
    "        bin_range.name = 'Select Range for Bin #' + str(next_bin.clicks + 1)\n",
    "        selected_bins[next_var.clicks].append(bin_range.value)\n",
    "        bin_range.start = bin_range.value[1] + 1\n",
    "        bin_range.value = (bin_range.value[1] + 1, df[selected_col].max())\n",
    "        plot_histogram(df, selected_col, plot, x_range = bin_range.value)\n",
    "    else:\n",
    "        selected_bins[next_var.clicks].append(bin_range.value)\n",
    "        next_bin.disabled = True\n",
    "        if selected_col != binnable.value[-1]:\n",
    "            layout[0][4] = next_var\n",
    "        else:\n",
    "            layout[0][4] = \"Variable Binning Complete!\"\n",
    "            # bin each column with chosen bins\n",
    "            cols = binnable.value\n",
    "            for col, bins in list(zip(cols, selected_bins)):\n",
    "                bins = pd.IntervalIndex.from_tuples(bins, closed='left')\n",
    "                df[col] = pd.cut(df[col], bins)\n",
    "            # bin remaining numeric columns into 5 equal bins\n",
    "            remainder = list(set(binnable.options) - set(binnable.value))\n",
    "            df[remainder] = df[remainder].apply(pd.cut, bins=5, right=False)\n",
    "\n",
    "def c(event):\n",
    "    \"\"\"\n",
    "    Resets layout when \"continue\" is clicked\n",
    "    \"\"\"\n",
    "    next_bin.clicks = 0\n",
    "    next_col = binnable.value[next_var.clicks] \n",
    "    text.value = next_col\n",
    "    num.value = 1\n",
    "    bin_range.start = df[next_col].min()\n",
    "    bin_range.end = df[next_col].max()\n",
    "    bin_range.value = (df[next_col].min(), df[next_col].max())\n",
    "    next_bin.disabled = False\n",
    "    layout[0][4] = \"\"\n",
    "    plot_histogram(df, next_col, plot)\n",
    "    \n",
    "def d(event):\n",
    "    \"\"\"\n",
    "    Updates bin sliders when \"next\" is clicked\n",
    "    \"\"\"\n",
    "    if next_bin2.clicks < num.value:\n",
    "        date_slider.name = 'Date Range for Bin #' + str(next_bin2.clicks + 1)\n",
    "        date_bins.append(date_slider.value)\n",
    "        date_slider.start = date_slider.value[1]\n",
    "        date_slider.value = (date_slider.value[1], datetime.datetime(d_max.year, d_max.month, d_max.day))\n",
    "        plot_dates(df[dates], plot, date_slider.value[0])\n",
    "    else:\n",
    "        date_bins.append(date_slider.value)\n",
    "        next_bin2.disabled = True\n",
    "        layout2[0][3] = 'Date Binning Complete!'\n",
    "        # apply bins to date variables\n",
    "        bins = pd.interval_range(start=pd.Timestamp(datetime.date(date_bins[0][0].year, date_bins[0][0].month, date_bins[0][0].day)),\n",
    "                         end=pd.Timestamp(datetime.date(date_bins[0][1].year, date_bins[0][1].month, date_bins[0][1].day)),\n",
    "                         periods=1, closed='left')\n",
    "        for d_bin in date_bins[1:]:\n",
    "            out = (datetime.date(d_bin[0].year, d_bin[0].month, d_bin[0].day),\n",
    "                   datetime.date(d_bin[1].year, d_bin[1].month, d_bin[1].day))\n",
    "            interval = pd.interval_range(start=pd.Timestamp(out[0]), end=pd.Timestamp(out[1]), periods=1, closed='left')\n",
    "            bins = bins.append(interval)\n",
    "        # convert dates to date ranges\n",
    "        for d in dates:\n",
    "            df[d] = df[d].apply(pd.Timestamp)\n",
    "            df[d] = pd.cut(df[d], bins=bins)"
   ]
  },
  {
   "cell_type": "markdown",
   "metadata": {},
   "source": [
    "## 2. Read the survey file"
   ]
  },
  {
   "cell_type": "code",
   "execution_count": null,
   "metadata": {},
   "outputs": [],
   "source": [
    "# read the csv file\n",
    "df = panellibs.extract_data(absolutePath + csv_file)\n",
    "\n",
    "# create a list of variable names\n",
    "variables_df = pd.DataFrame({'varname':df.columns})\n",
    "printmd(\"<b><span style='color:red'>All variables in the survey file:</span></b>\")\n",
    "print(variables_df.varname.values)"
   ]
  },
  {
   "cell_type": "markdown",
   "metadata": {},
   "source": [
    "<h2><span style=\"color:red\">3. OPTIONAL: Bin Numerical and Date Variables</span></h3>"
   ]
  },
  {
   "cell_type": "markdown",
   "metadata": {},
   "source": [
    "<span style=\"color:red\">Create custom bins for numerical and date variables, or skip to the next step.\n",
    "</span> "
   ]
  },
  {
   "cell_type": "markdown",
   "metadata": {},
   "source": [
    "<h3><span style=\"color:red\">Set custom bins for numerical variables:</span></h3>"
   ]
  },
  {
   "cell_type": "markdown",
   "metadata": {},
   "source": [
    "<span style=\"color:red\">Please select at least one numeric variable to bin. The remaining unselected variables will be automatically grouped into 5 equal bins</span> "
   ]
  },
  {
   "cell_type": "code",
   "execution_count": null,
   "metadata": {
    "scrolled": false
   },
   "outputs": [],
   "source": [
    "# select numerical columns to bin -- **unselected columns will be automatically binned into 5 equal bins**\n",
    "df = df.apply(pd.to_numeric, errors='ignore')\n",
    "df = df.dropna(axis=1, how='all')\n",
    "op = [i for i in list(df.columns) if '#number' in i]\n",
    "binnable = pn.widgets.MultiChoice(name='Select Columns to Bin: ', options=op, height=350)\n",
    "binnable"
   ]
  },
  {
   "cell_type": "markdown",
   "metadata": {},
   "source": [
    "<span style=\"color:red\">Set custom bins for the selected numerical variables.</span> "
   ]
  },
  {
   "cell_type": "code",
   "execution_count": null,
   "metadata": {},
   "outputs": [],
   "source": [
    "# set custom bins for a numeric (#number) variable\n",
    "next_var = pn.widgets.Button(name='Continue to Next Variable', button_type='success')\n",
    "first_col = binnable.value[next_var.clicks]\n",
    "selected_bins = [[] for i in binnable.value]\n",
    "\n",
    "text = pn.widgets.TextInput(name='Current Variable: ', value=first_col, disabled=True)\n",
    "num = pn.widgets.Select(name='Select number of bins', options=[i+1 for i in range(5)])\n",
    "next_bin = pn.widgets.Button(name='Next Bin', button_type='primary')\n",
    "bin_range = pn.widgets.RangeSlider(name='Select Range for Bin #1',\n",
    "                                   start=df[first_col].min(), end=df[first_col].max(),\n",
    "                                   value=(df[first_col].min(), df[first_col].max()), step=1)\n",
    "\n",
    "next_bin.on_click(b)\n",
    "next_var.on_click(c)\n",
    "plot = pn.pane.Matplotlib(dpi=80)\n",
    "plot_histogram(df, binnable.value[next_var.clicks], plot)\n",
    "layout = pn.Row(pn.Column(text, num, bin_range, next_bin, \"\"), plot)\n",
    "layout"
   ]
  },
  {
   "cell_type": "markdown",
   "metadata": {},
   "source": [
    "<h3><span style=\"color:red\">Set custom bins for date variables:</span></h3>"
   ]
  },
  {
   "cell_type": "markdown",
   "metadata": {},
   "source": [
    "<span style=\"color:red\">Convert dates into custom date ranges.</span> "
   ]
  },
  {
   "cell_type": "code",
   "execution_count": null,
   "metadata": {},
   "outputs": [],
   "source": [
    "# convert date variables in survey\n",
    "dates = [i for i in list(df.columns) if '#date' in i]\n",
    "df[dates] = df[dates].apply(pd.to_datetime, errors='coerce')\n",
    "df[dates] = df[dates].apply(lambda x: x.dt.date)\n",
    "d_max = pd.Series(df[dates].to_numpy().flatten()).dropna().max()\n",
    "d_min = pd.Series(df[dates].to_numpy().flatten()).dropna().min()\n",
    "\n",
    "# define bins for all date variables\n",
    "date_bins = []\n",
    "date_slider = pn.widgets.DateRangeSlider(name='Date Range for Bin #1 ', start=d_min, end=d_max, value=(d_min,d_max))\n",
    "next_bin2 = pn.widgets.Button(name='Next Bin', button_type='primary')\n",
    "num = pn.widgets.Select(name='Select number of bins', options=[i+1 for i in range(5)])\n",
    "        \n",
    "next_bin2.on_click(d)\n",
    "plot =  pn.pane.Matplotlib(dpi=80, tight=True)\n",
    "plot_dates(df[dates], plot, date_slider.value[0])\n",
    "layout2 = pn.Row(pn.Column(num, date_slider, next_bin2, \"\"), plot)\n",
    "layout2"
   ]
  },
  {
   "cell_type": "markdown",
   "metadata": {},
   "source": [
    "## 4. Generate Factor Contributions"
   ]
  },
  {
   "cell_type": "markdown",
   "metadata": {},
   "source": [
    "Drop survey variables that are unnecessary for analysis, such as SuAVE #img, #name, #long, and #hidden variables."
   ]
  },
  {
   "cell_type": "code",
   "execution_count": null,
   "metadata": {},
   "outputs": [],
   "source": [
    "# OPTIONAL: if survey has #img, #name, #long, or #hidden columns, remove them\n",
    "df.drop(columns=['#img', '#name'], inplace=True)\n",
    "remove_cols = [i for i in list(df.columns) if '#long' in i or '#hidden' in i]\n",
    "df.drop(columns=remove_cols, inplace=True)"
   ]
  },
  {
   "cell_type": "markdown",
   "metadata": {},
   "source": [
    "Please select a variable of interest to generate factor contributions."
   ]
  },
  {
   "cell_type": "code",
   "execution_count": null,
   "metadata": {},
   "outputs": [],
   "source": [
    "# select a variable of interest to generate factor contributions\n",
    "selector = pn.widgets.Select(name='Select a variable to investigate: ', options=list(df.columns))\n",
    "selector"
   ]
  },
  {
   "cell_type": "markdown",
   "metadata": {},
   "source": [
    "Please select a level of the selected variable to further investigate"
   ]
  },
  {
   "cell_type": "code",
   "execution_count": null,
   "metadata": {},
   "outputs": [],
   "source": [
    "# select a variable level to investigate\n",
    "op = [selector.value + '_' + str(i) for i in df[selector.value].value_counts().index.to_list()]\n",
    "level = pn.widgets.Select(name = 'Select a level to analyze (A):', options=op)\n",
    "level"
   ]
  },
  {
   "cell_type": "markdown",
   "metadata": {},
   "source": [
    "Run the following cell to generate factor contributions for the specified variable and level"
   ]
  },
  {
   "cell_type": "code",
   "execution_count": null,
   "metadata": {},
   "outputs": [],
   "source": [
    "# generate factor contributions: \n",
    "selected_var = selector.value\n",
    "selected_level = level.value.split('_')[-1].strip()\n",
    "factors = get_factors(df)\n",
    "contributions = find_factor_contributions(df, selected_var, selected_level, factors)"
   ]
  },
  {
   "cell_type": "markdown",
   "metadata": {},
   "source": [
    "## 5. Analyze Factor Contributions"
   ]
  },
  {
   "cell_type": "markdown",
   "metadata": {},
   "source": [
    "Run the following cell to analyze all factor contributions for the selected variable and level of interest."
   ]
  },
  {
   "cell_type": "code",
   "execution_count": null,
   "metadata": {},
   "outputs": [],
   "source": [
    "# build output dataframe\n",
    "output = build_df(contributions)\n",
    "\n",
    "# build output table and widgets for display\n",
    "search, checkbox, accuracy_slider, completeness_slider, contribution_slider, count_slider, tab = build_table(output)\n",
    "\n",
    "# display output table and widgets\n",
    "pn.Column(\n",
    "    checkbox,\n",
    "    pn.Row(search, accuracy_slider, completeness_slider, contribution_slider, count_slider),\n",
    "    tab\n",
    ")"
   ]
  },
  {
   "cell_type": "markdown",
   "metadata": {},
   "source": [
    "Run the following cell to download the filtered table"
   ]
  },
  {
   "cell_type": "code",
   "execution_count": null,
   "metadata": {},
   "outputs": [],
   "source": [
    "# download the output table\n",
    "filename = pn.widgets.TextInput(name='Enter Filename: ')\n",
    "\n",
    "@pn.depends(name=filename, watch=True)\n",
    "def file_download(name):\n",
    "    download.filename = name\n",
    "\n",
    "sio = StringIO()\n",
    "final_output = tab.selected_dataframe[tab.selected_dataframe.columns[:-1]]\n",
    "final_output.to_csv(sio)\n",
    "sio.seek(0)\n",
    "download = pn.widgets.FileDownload(sio, embed=True, filename='table.csv', button_type='primary')\n",
    "pn.Column(filename, download)"
   ]
  }
 ],
 "metadata": {
  "kernelspec": {
   "display_name": "Python 3",
   "language": "python",
   "name": "python3"
  },
  "language_info": {
   "codemirror_mode": {
    "name": "ipython",
    "version": 3
   },
   "file_extension": ".py",
   "mimetype": "text/x-python",
   "name": "python",
   "nbconvert_exporter": "python",
   "pygments_lexer": "ipython3",
   "version": "3.7.6"
  }
 },
 "nbformat": 4,
 "nbformat_minor": 4
}
